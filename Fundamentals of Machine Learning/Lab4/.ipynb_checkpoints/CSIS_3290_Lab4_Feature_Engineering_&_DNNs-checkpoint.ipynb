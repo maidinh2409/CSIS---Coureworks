{
  "cells": [
    {
      "cell_type": "markdown",
      "metadata": {
        "id": "xL-Nk3m_eQsX"
      },
      "source": [
        "# Lab4 Feature Engineering & DNNs\n",
        "\n",
        "## Introduction\n",
        "\n",
        "**About the Dataset:**\n",
        "In this notebook we will use the [Bank Marketing Dataset](https://archive.ics.uci.edu/ml/datasets/bank+marketing) from UCI to build a model with a goal of predicting whether a customer will subscribe to a term deposit or not. The Bank Marketing dataset is diverese and challenging as some of the input variables are categorical and there are some other imperfection which makes it an intresting dataset to undrstand machine learning algorithms better.\n",
        "\n",
        "**Lab4 Overview:**\n",
        "In this Lab4, we will delve into a reference example of feature engineering with DNN (Deep Neural Networks).\n",
        "\n",
        "<font color=\"purple\"> Feature Engineering doesn't have a standard answer, and the examples in this lab assignment are provided just as references for inspiration. The methods that can improve model performance are the good ones!\n",
        "</font>\n",
        "\n",
        "The homework will be divided into three parts:\n",
        "\n",
        "*   **Part 1 Establishing Baseline Performance:** We will begin by creating a basic model to establish a baseline performance benchmark. This will serve as a reference point for evaluating the impact of our subsequent efforts.\n",
        "\n",
        "*   **Part 2 Feature Engineering and Selection:**  In this part, we will apply feature engineering techniques to extract the most valuable information from our dataset. We will also explore feature selection methods to determine which features contribute most significantly to model performance. After building each model, we will rigorously evaluate them and compare their performance to identify the most suitable model for our specific problem.\n",
        "\n",
        "*   **Part 3 Model Optimization:** Finally, we will try ensemble models and fine-tune our models by optimizing its hyperparameters to find the optimal (not necessarily the most) configuration that maximizes model performance.\n",
        "\n",
        "To start we will load some basic libraries such as Pandas, NumPy and seaborn, then look at the descriptive feature (columns) in details.\n",
        "\n",
        "<font color=\"purple\">**Important Note:**\n",
        "A significant investment of time and effort went into the design of this assignment. Please respect our work by not sharing it with others or posting it online. Unauthorized distribution of this assignment is a violation of academic integrity. Thank you very much! </font>"
      ]
    },
    {
      "cell_type": "code",
      "execution_count": 3,
      "metadata": {
        "id": "uI1mGf-RdvlD"
      },
      "outputs": [],
      "source": [
        "# Import libraries\n",
        "## Basic libs\n",
        "import pandas as pd\n",
        "import numpy as np\n",
        "\n",
        "## Data Visualization\n",
        "import seaborn as sb\n",
        "import matplotlib.pyplot as plt"
      ]
    },
    {
      "cell_type": "markdown",
      "metadata": {
        "id": "Yf8uFbzy57qd"
      },
      "source": [
        "## Overview of the data\n",
        "\n",
        "In this first step we will load our dataset that has been uploaded on my GitHub for easier process. From the dataset documentation found [here](https://archive.ics.uci.edu/ml/datasets/Bank+Marketing) we can see below are the list of column we have in our data:\n",
        "\n",
        "Input variables:\n",
        "1. age (numeric)\n",
        "2. job : type of job (categorical: 'admin.','blue-collar','entrepreneur','housemaid','management','retired','self-employed','services','student','technician','unemployed','unknown')\n",
        "3. marital : marital status (categorical: 'divorced','married','single','unknown'; note: 'divorced' means divorced or widowed)\n",
        "4. education (categorical: 'basic.4y','basic.6y','basic.9y','high.school','illiterate','professional.course','university.degree','unknown')\n",
        "5. default: has credit in default? (categorical: 'no','yes','unknown')\n",
        "6. housing: has housing loan? (categorical: 'no','yes','unknown')\n",
        "7. loan: has personal loan? (categorical: 'no','yes','unknown')\n",
        "8. contact: contact communication type (categorical: 'cellular','telephone')\n",
        "9. month: last contact month of year (categorical: 'jan', 'feb', 'mar', ..., 'nov', 'dec')\n",
        "10. day_of_week: last contact day of the week (categorical: 'mon','tue','wed','thu','fri')\n",
        "11. duration: last contact duration, in seconds (numeric)\n",
        "12. campaign: number of contacts performed during this campaign and for this client (numeric, includes last contact)\n",
        "13. pdays: number of days that passed by after the client was last contacted from a previous campaign (numeric; 999 means client was not previously contacted)\n",
        "14. previous: number of contacts performed before this campaign and for this client (numeric)\n",
        "15. poutcome: outcome of the previous marketing campaign (categorical: 'failure','nonexistent','success')\n",
        "\n",
        "Output variable (desired target):\n",
        "21. deposit: has the client subscribed a term deposit? (binary: 'yes','no')"
      ]
    },
    {
      "cell_type": "markdown",
      "metadata": {
        "id": "INASTNHSEYde"
      },
      "source": [
        "# Part 1 - Let's get started: Establish a Baseline\n",
        "## 1.1 Problem with Raw Data\n"
      ]
    },
    {
      "cell_type": "code",
      "execution_count": null,
      "metadata": {
        "id": "dgfqmXd88iyh"
      },
      "outputs": [],
      "source": [
        "from IPython.core.interactiveshell import InteractiveShell\n",
        "InteractiveShell.ast_node_interactivity = \"all\""
      ]
    },
    {
      "cell_type": "code",
      "execution_count": null,
      "metadata": {
        "id": "XnWgxn5d8e4_"
      },
      "outputs": [],
      "source": [
        "# Load dataset\n",
        "df_bank = pd.read_csv('https://raw.githubusercontent.com/rafiag/DTI2020/main/data/bank.csv')"
      ]
    },
    {
      "cell_type": "code",
      "execution_count": null,
      "metadata": {
        "colab": {
          "base_uri": "https://localhost:8080/",
          "height": 226
        },
        "id": "gahKOS7C8n11",
        "outputId": "5dd293ba-44ad-4ac4-9066-9c099d9d34f9"
      },
      "outputs": [
        {
          "data": {
            "application/vnd.google.colaboratory.intrinsic+json": {
              "summary": "{\n  \"name\": \"df_bank\",\n  \"rows\": 11162,\n  \"fields\": [\n    {\n      \"column\": \"age\",\n      \"properties\": {\n        \"dtype\": \"number\",\n        \"std\": 11,\n        \"min\": 18,\n        \"max\": 95,\n        \"num_unique_values\": 76,\n        \"samples\": [\n          54,\n          47,\n          30\n        ],\n        \"semantic_type\": \"\",\n        \"description\": \"\"\n      }\n    },\n    {\n      \"column\": \"job\",\n      \"properties\": {\n        \"dtype\": \"category\",\n        \"num_unique_values\": 12,\n        \"samples\": [\n          \"self-employed\",\n          \"unknown\",\n          \"admin.\"\n        ],\n        \"semantic_type\": \"\",\n        \"description\": \"\"\n      }\n    },\n    {\n      \"column\": \"marital\",\n      \"properties\": {\n        \"dtype\": \"category\",\n        \"num_unique_values\": 3,\n        \"samples\": [\n          \"married\",\n          \"single\",\n          \"divorced\"\n        ],\n        \"semantic_type\": \"\",\n        \"description\": \"\"\n      }\n    },\n    {\n      \"column\": \"education\",\n      \"properties\": {\n        \"dtype\": \"category\",\n        \"num_unique_values\": 4,\n        \"samples\": [\n          \"tertiary\",\n          \"unknown\",\n          \"secondary\"\n        ],\n        \"semantic_type\": \"\",\n        \"description\": \"\"\n      }\n    },\n    {\n      \"column\": \"default\",\n      \"properties\": {\n        \"dtype\": \"category\",\n        \"num_unique_values\": 2,\n        \"samples\": [\n          \"yes\",\n          \"no\"\n        ],\n        \"semantic_type\": \"\",\n        \"description\": \"\"\n      }\n    },\n    {\n      \"column\": \"balance\",\n      \"properties\": {\n        \"dtype\": \"number\",\n        \"std\": 3225,\n        \"min\": -6847,\n        \"max\": 81204,\n        \"num_unique_values\": 3805,\n        \"samples\": [\n          3026,\n          1792\n        ],\n        \"semantic_type\": \"\",\n        \"description\": \"\"\n      }\n    },\n    {\n      \"column\": \"housing\",\n      \"properties\": {\n        \"dtype\": \"category\",\n        \"num_unique_values\": 2,\n        \"samples\": [\n          \"no\",\n          \"yes\"\n        ],\n        \"semantic_type\": \"\",\n        \"description\": \"\"\n      }\n    },\n    {\n      \"column\": \"loan\",\n      \"properties\": {\n        \"dtype\": \"category\",\n        \"num_unique_values\": 2,\n        \"samples\": [\n          \"yes\",\n          \"no\"\n        ],\n        \"semantic_type\": \"\",\n        \"description\": \"\"\n      }\n    },\n    {\n      \"column\": \"contact\",\n      \"properties\": {\n        \"dtype\": \"category\",\n        \"num_unique_values\": 3,\n        \"samples\": [\n          \"unknown\",\n          \"cellular\"\n        ],\n        \"semantic_type\": \"\",\n        \"description\": \"\"\n      }\n    },\n    {\n      \"column\": \"day\",\n      \"properties\": {\n        \"dtype\": \"number\",\n        \"std\": 8,\n        \"min\": 1,\n        \"max\": 31,\n        \"num_unique_values\": 31,\n        \"samples\": [\n          10,\n          27\n        ],\n        \"semantic_type\": \"\",\n        \"description\": \"\"\n      }\n    },\n    {\n      \"column\": \"month\",\n      \"properties\": {\n        \"dtype\": \"category\",\n        \"num_unique_values\": 12,\n        \"samples\": [\n          \"apr\",\n          \"mar\"\n        ],\n        \"semantic_type\": \"\",\n        \"description\": \"\"\n      }\n    },\n    {\n      \"column\": \"duration\",\n      \"properties\": {\n        \"dtype\": \"number\",\n        \"std\": 347,\n        \"min\": 2,\n        \"max\": 3881,\n        \"num_unique_values\": 1428,\n        \"samples\": [\n          597,\n          346\n        ],\n        \"semantic_type\": \"\",\n        \"description\": \"\"\n      }\n    },\n    {\n      \"column\": \"campaign\",\n      \"properties\": {\n        \"dtype\": \"number\",\n        \"std\": 2,\n        \"min\": 1,\n        \"max\": 63,\n        \"num_unique_values\": 36,\n        \"samples\": [\n          31,\n          7\n        ],\n        \"semantic_type\": \"\",\n        \"description\": \"\"\n      }\n    },\n    {\n      \"column\": \"pdays\",\n      \"properties\": {\n        \"dtype\": \"number\",\n        \"std\": 108,\n        \"min\": -1,\n        \"max\": 854,\n        \"num_unique_values\": 472,\n        \"samples\": [\n          294,\n          148\n        ],\n        \"semantic_type\": \"\",\n        \"description\": \"\"\n      }\n    },\n    {\n      \"column\": \"previous\",\n      \"properties\": {\n        \"dtype\": \"number\",\n        \"std\": 2,\n        \"min\": 0,\n        \"max\": 58,\n        \"num_unique_values\": 34,\n        \"samples\": [\n          30,\n          14\n        ],\n        \"semantic_type\": \"\",\n        \"description\": \"\"\n      }\n    },\n    {\n      \"column\": \"poutcome\",\n      \"properties\": {\n        \"dtype\": \"category\",\n        \"num_unique_values\": 4,\n        \"samples\": [\n          \"other\",\n          \"success\"\n        ],\n        \"semantic_type\": \"\",\n        \"description\": \"\"\n      }\n    },\n    {\n      \"column\": \"deposit\",\n      \"properties\": {\n        \"dtype\": \"category\",\n        \"num_unique_values\": 2,\n        \"samples\": [\n          \"no\",\n          \"yes\"\n        ],\n        \"semantic_type\": \"\",\n        \"description\": \"\"\n      }\n    }\n  ]\n}",
              "type": "dataframe",
              "variable_name": "df_bank"
            },
            "text/html": [
              "\n",
              "  <div id=\"df-0d5d6f2b-060d-4113-b1a3-195091aa8c48\" class=\"colab-df-container\">\n",
              "    <div>\n",
              "<style scoped>\n",
              "    .dataframe tbody tr th:only-of-type {\n",
              "        vertical-align: middle;\n",
              "    }\n",
              "\n",
              "    .dataframe tbody tr th {\n",
              "        vertical-align: top;\n",
              "    }\n",
              "\n",
              "    .dataframe thead th {\n",
              "        text-align: right;\n",
              "    }\n",
              "</style>\n",
              "<table border=\"1\" class=\"dataframe\">\n",
              "  <thead>\n",
              "    <tr style=\"text-align: right;\">\n",
              "      <th></th>\n",
              "      <th>age</th>\n",
              "      <th>job</th>\n",
              "      <th>marital</th>\n",
              "      <th>education</th>\n",
              "      <th>default</th>\n",
              "      <th>balance</th>\n",
              "      <th>housing</th>\n",
              "      <th>loan</th>\n",
              "      <th>contact</th>\n",
              "      <th>day</th>\n",
              "      <th>month</th>\n",
              "      <th>duration</th>\n",
              "      <th>campaign</th>\n",
              "      <th>pdays</th>\n",
              "      <th>previous</th>\n",
              "      <th>poutcome</th>\n",
              "      <th>deposit</th>\n",
              "    </tr>\n",
              "  </thead>\n",
              "  <tbody>\n",
              "    <tr>\n",
              "      <th>0</th>\n",
              "      <td>59</td>\n",
              "      <td>admin.</td>\n",
              "      <td>married</td>\n",
              "      <td>secondary</td>\n",
              "      <td>no</td>\n",
              "      <td>2343</td>\n",
              "      <td>yes</td>\n",
              "      <td>no</td>\n",
              "      <td>unknown</td>\n",
              "      <td>5</td>\n",
              "      <td>may</td>\n",
              "      <td>1042</td>\n",
              "      <td>1</td>\n",
              "      <td>-1</td>\n",
              "      <td>0</td>\n",
              "      <td>unknown</td>\n",
              "      <td>yes</td>\n",
              "    </tr>\n",
              "    <tr>\n",
              "      <th>1</th>\n",
              "      <td>56</td>\n",
              "      <td>admin.</td>\n",
              "      <td>married</td>\n",
              "      <td>secondary</td>\n",
              "      <td>no</td>\n",
              "      <td>45</td>\n",
              "      <td>no</td>\n",
              "      <td>no</td>\n",
              "      <td>unknown</td>\n",
              "      <td>5</td>\n",
              "      <td>may</td>\n",
              "      <td>1467</td>\n",
              "      <td>1</td>\n",
              "      <td>-1</td>\n",
              "      <td>0</td>\n",
              "      <td>unknown</td>\n",
              "      <td>yes</td>\n",
              "    </tr>\n",
              "    <tr>\n",
              "      <th>2</th>\n",
              "      <td>41</td>\n",
              "      <td>technician</td>\n",
              "      <td>married</td>\n",
              "      <td>secondary</td>\n",
              "      <td>no</td>\n",
              "      <td>1270</td>\n",
              "      <td>yes</td>\n",
              "      <td>no</td>\n",
              "      <td>unknown</td>\n",
              "      <td>5</td>\n",
              "      <td>may</td>\n",
              "      <td>1389</td>\n",
              "      <td>1</td>\n",
              "      <td>-1</td>\n",
              "      <td>0</td>\n",
              "      <td>unknown</td>\n",
              "      <td>yes</td>\n",
              "    </tr>\n",
              "    <tr>\n",
              "      <th>3</th>\n",
              "      <td>55</td>\n",
              "      <td>services</td>\n",
              "      <td>married</td>\n",
              "      <td>secondary</td>\n",
              "      <td>no</td>\n",
              "      <td>2476</td>\n",
              "      <td>yes</td>\n",
              "      <td>no</td>\n",
              "      <td>unknown</td>\n",
              "      <td>5</td>\n",
              "      <td>may</td>\n",
              "      <td>579</td>\n",
              "      <td>1</td>\n",
              "      <td>-1</td>\n",
              "      <td>0</td>\n",
              "      <td>unknown</td>\n",
              "      <td>yes</td>\n",
              "    </tr>\n",
              "    <tr>\n",
              "      <th>4</th>\n",
              "      <td>54</td>\n",
              "      <td>admin.</td>\n",
              "      <td>married</td>\n",
              "      <td>tertiary</td>\n",
              "      <td>no</td>\n",
              "      <td>184</td>\n",
              "      <td>no</td>\n",
              "      <td>no</td>\n",
              "      <td>unknown</td>\n",
              "      <td>5</td>\n",
              "      <td>may</td>\n",
              "      <td>673</td>\n",
              "      <td>2</td>\n",
              "      <td>-1</td>\n",
              "      <td>0</td>\n",
              "      <td>unknown</td>\n",
              "      <td>yes</td>\n",
              "    </tr>\n",
              "  </tbody>\n",
              "</table>\n",
              "</div>\n",
              "    <div class=\"colab-df-buttons\">\n",
              "\n",
              "  <div class=\"colab-df-container\">\n",
              "    <button class=\"colab-df-convert\" onclick=\"convertToInteractive('df-0d5d6f2b-060d-4113-b1a3-195091aa8c48')\"\n",
              "            title=\"Convert this dataframe to an interactive table.\"\n",
              "            style=\"display:none;\">\n",
              "\n",
              "  <svg xmlns=\"http://www.w3.org/2000/svg\" height=\"24px\" viewBox=\"0 -960 960 960\">\n",
              "    <path d=\"M120-120v-720h720v720H120Zm60-500h600v-160H180v160Zm220 220h160v-160H400v160Zm0 220h160v-160H400v160ZM180-400h160v-160H180v160Zm440 0h160v-160H620v160ZM180-180h160v-160H180v160Zm440 0h160v-160H620v160Z\"/>\n",
              "  </svg>\n",
              "    </button>\n",
              "\n",
              "  <style>\n",
              "    .colab-df-container {\n",
              "      display:flex;\n",
              "      gap: 12px;\n",
              "    }\n",
              "\n",
              "    .colab-df-convert {\n",
              "      background-color: #E8F0FE;\n",
              "      border: none;\n",
              "      border-radius: 50%;\n",
              "      cursor: pointer;\n",
              "      display: none;\n",
              "      fill: #1967D2;\n",
              "      height: 32px;\n",
              "      padding: 0 0 0 0;\n",
              "      width: 32px;\n",
              "    }\n",
              "\n",
              "    .colab-df-convert:hover {\n",
              "      background-color: #E2EBFA;\n",
              "      box-shadow: 0px 1px 2px rgba(60, 64, 67, 0.3), 0px 1px 3px 1px rgba(60, 64, 67, 0.15);\n",
              "      fill: #174EA6;\n",
              "    }\n",
              "\n",
              "    .colab-df-buttons div {\n",
              "      margin-bottom: 4px;\n",
              "    }\n",
              "\n",
              "    [theme=dark] .colab-df-convert {\n",
              "      background-color: #3B4455;\n",
              "      fill: #D2E3FC;\n",
              "    }\n",
              "\n",
              "    [theme=dark] .colab-df-convert:hover {\n",
              "      background-color: #434B5C;\n",
              "      box-shadow: 0px 1px 3px 1px rgba(0, 0, 0, 0.15);\n",
              "      filter: drop-shadow(0px 1px 2px rgba(0, 0, 0, 0.3));\n",
              "      fill: #FFFFFF;\n",
              "    }\n",
              "  </style>\n",
              "\n",
              "    <script>\n",
              "      const buttonEl =\n",
              "        document.querySelector('#df-0d5d6f2b-060d-4113-b1a3-195091aa8c48 button.colab-df-convert');\n",
              "      buttonEl.style.display =\n",
              "        google.colab.kernel.accessAllowed ? 'block' : 'none';\n",
              "\n",
              "      async function convertToInteractive(key) {\n",
              "        const element = document.querySelector('#df-0d5d6f2b-060d-4113-b1a3-195091aa8c48');\n",
              "        const dataTable =\n",
              "          await google.colab.kernel.invokeFunction('convertToInteractive',\n",
              "                                                    [key], {});\n",
              "        if (!dataTable) return;\n",
              "\n",
              "        const docLinkHtml = 'Like what you see? Visit the ' +\n",
              "          '<a target=\"_blank\" href=https://colab.research.google.com/notebooks/data_table.ipynb>data table notebook</a>'\n",
              "          + ' to learn more about interactive tables.';\n",
              "        element.innerHTML = '';\n",
              "        dataTable['output_type'] = 'display_data';\n",
              "        await google.colab.output.renderOutput(dataTable, element);\n",
              "        const docLink = document.createElement('div');\n",
              "        docLink.innerHTML = docLinkHtml;\n",
              "        element.appendChild(docLink);\n",
              "      }\n",
              "    </script>\n",
              "  </div>\n",
              "\n",
              "\n",
              "<div id=\"df-8d263c16-84be-4fa9-9579-366ee1df79a1\">\n",
              "  <button class=\"colab-df-quickchart\" onclick=\"quickchart('df-8d263c16-84be-4fa9-9579-366ee1df79a1')\"\n",
              "            title=\"Suggest charts\"\n",
              "            style=\"display:none;\">\n",
              "\n",
              "<svg xmlns=\"http://www.w3.org/2000/svg\" height=\"24px\"viewBox=\"0 0 24 24\"\n",
              "     width=\"24px\">\n",
              "    <g>\n",
              "        <path d=\"M19 3H5c-1.1 0-2 .9-2 2v14c0 1.1.9 2 2 2h14c1.1 0 2-.9 2-2V5c0-1.1-.9-2-2-2zM9 17H7v-7h2v7zm4 0h-2V7h2v10zm4 0h-2v-4h2v4z\"/>\n",
              "    </g>\n",
              "</svg>\n",
              "  </button>\n",
              "\n",
              "<style>\n",
              "  .colab-df-quickchart {\n",
              "      --bg-color: #E8F0FE;\n",
              "      --fill-color: #1967D2;\n",
              "      --hover-bg-color: #E2EBFA;\n",
              "      --hover-fill-color: #174EA6;\n",
              "      --disabled-fill-color: #AAA;\n",
              "      --disabled-bg-color: #DDD;\n",
              "  }\n",
              "\n",
              "  [theme=dark] .colab-df-quickchart {\n",
              "      --bg-color: #3B4455;\n",
              "      --fill-color: #D2E3FC;\n",
              "      --hover-bg-color: #434B5C;\n",
              "      --hover-fill-color: #FFFFFF;\n",
              "      --disabled-bg-color: #3B4455;\n",
              "      --disabled-fill-color: #666;\n",
              "  }\n",
              "\n",
              "  .colab-df-quickchart {\n",
              "    background-color: var(--bg-color);\n",
              "    border: none;\n",
              "    border-radius: 50%;\n",
              "    cursor: pointer;\n",
              "    display: none;\n",
              "    fill: var(--fill-color);\n",
              "    height: 32px;\n",
              "    padding: 0;\n",
              "    width: 32px;\n",
              "  }\n",
              "\n",
              "  .colab-df-quickchart:hover {\n",
              "    background-color: var(--hover-bg-color);\n",
              "    box-shadow: 0 1px 2px rgba(60, 64, 67, 0.3), 0 1px 3px 1px rgba(60, 64, 67, 0.15);\n",
              "    fill: var(--button-hover-fill-color);\n",
              "  }\n",
              "\n",
              "  .colab-df-quickchart-complete:disabled,\n",
              "  .colab-df-quickchart-complete:disabled:hover {\n",
              "    background-color: var(--disabled-bg-color);\n",
              "    fill: var(--disabled-fill-color);\n",
              "    box-shadow: none;\n",
              "  }\n",
              "\n",
              "  .colab-df-spinner {\n",
              "    border: 2px solid var(--fill-color);\n",
              "    border-color: transparent;\n",
              "    border-bottom-color: var(--fill-color);\n",
              "    animation:\n",
              "      spin 1s steps(1) infinite;\n",
              "  }\n",
              "\n",
              "  @keyframes spin {\n",
              "    0% {\n",
              "      border-color: transparent;\n",
              "      border-bottom-color: var(--fill-color);\n",
              "      border-left-color: var(--fill-color);\n",
              "    }\n",
              "    20% {\n",
              "      border-color: transparent;\n",
              "      border-left-color: var(--fill-color);\n",
              "      border-top-color: var(--fill-color);\n",
              "    }\n",
              "    30% {\n",
              "      border-color: transparent;\n",
              "      border-left-color: var(--fill-color);\n",
              "      border-top-color: var(--fill-color);\n",
              "      border-right-color: var(--fill-color);\n",
              "    }\n",
              "    40% {\n",
              "      border-color: transparent;\n",
              "      border-right-color: var(--fill-color);\n",
              "      border-top-color: var(--fill-color);\n",
              "    }\n",
              "    60% {\n",
              "      border-color: transparent;\n",
              "      border-right-color: var(--fill-color);\n",
              "    }\n",
              "    80% {\n",
              "      border-color: transparent;\n",
              "      border-right-color: var(--fill-color);\n",
              "      border-bottom-color: var(--fill-color);\n",
              "    }\n",
              "    90% {\n",
              "      border-color: transparent;\n",
              "      border-bottom-color: var(--fill-color);\n",
              "    }\n",
              "  }\n",
              "</style>\n",
              "\n",
              "  <script>\n",
              "    async function quickchart(key) {\n",
              "      const quickchartButtonEl =\n",
              "        document.querySelector('#' + key + ' button');\n",
              "      quickchartButtonEl.disabled = true;  // To prevent multiple clicks.\n",
              "      quickchartButtonEl.classList.add('colab-df-spinner');\n",
              "      try {\n",
              "        const charts = await google.colab.kernel.invokeFunction(\n",
              "            'suggestCharts', [key], {});\n",
              "      } catch (error) {\n",
              "        console.error('Error during call to suggestCharts:', error);\n",
              "      }\n",
              "      quickchartButtonEl.classList.remove('colab-df-spinner');\n",
              "      quickchartButtonEl.classList.add('colab-df-quickchart-complete');\n",
              "    }\n",
              "    (() => {\n",
              "      let quickchartButtonEl =\n",
              "        document.querySelector('#df-8d263c16-84be-4fa9-9579-366ee1df79a1 button');\n",
              "      quickchartButtonEl.style.display =\n",
              "        google.colab.kernel.accessAllowed ? 'block' : 'none';\n",
              "    })();\n",
              "  </script>\n",
              "</div>\n",
              "\n",
              "    </div>\n",
              "  </div>\n"
            ],
            "text/plain": [
              "   age         job  marital  education default  balance housing loan  contact  \\\n",
              "0   59      admin.  married  secondary      no     2343     yes   no  unknown   \n",
              "1   56      admin.  married  secondary      no       45      no   no  unknown   \n",
              "2   41  technician  married  secondary      no     1270     yes   no  unknown   \n",
              "3   55    services  married  secondary      no     2476     yes   no  unknown   \n",
              "4   54      admin.  married   tertiary      no      184      no   no  unknown   \n",
              "\n",
              "   day month  duration  campaign  pdays  previous poutcome deposit  \n",
              "0    5   may      1042         1     -1         0  unknown     yes  \n",
              "1    5   may      1467         1     -1         0  unknown     yes  \n",
              "2    5   may      1389         1     -1         0  unknown     yes  \n",
              "3    5   may       579         1     -1         0  unknown     yes  \n",
              "4    5   may       673         2     -1         0  unknown     yes  "
            ]
          },
          "execution_count": 6,
          "metadata": {},
          "output_type": "execute_result"
        }
      ],
      "source": [
        "# check first 5 data points\n",
        "df_bank.head()"
      ]
    },
    {
      "cell_type": "code",
      "execution_count": null,
      "metadata": {
        "id": "FC6Xg3ESeSjf"
      },
      "outputs": [],
      "source": [
        "# remove the 'duration' column to avoid 'data leakage'\n",
        "df_bank = df_bank.drop('duration', axis=1)"
      ]
    },
    {
      "cell_type": "code",
      "execution_count": null,
      "metadata": {
        "id": "IxnTC5Kj83bi"
      },
      "outputs": [],
      "source": [
        "# Encode target value\n",
        "df_bank['deposit'] = df_bank['deposit'].map({'yes': 1, 'no': 0})"
      ]
    },
    {
      "cell_type": "code",
      "execution_count": null,
      "metadata": {
        "colab": {
          "base_uri": "https://localhost:8080/"
        },
        "id": "-0tn2PI_87SB",
        "outputId": "aea49970-f144-4ffb-e04e-3cbe3cc2e1d8"
      },
      "outputs": [
        {
          "name": "stdout",
          "output_type": "stream",
          "text": [
            "Shape of training features: (8929, 15)\n",
            "Shape of testing features: (2233, 15)\n",
            "Shape of training label (target feature): (8929,)\n",
            "Shape of testing label (target feature): (2233,)\n"
          ]
        }
      ],
      "source": [
        "# Select Features\n",
        "Descriptive_Features = df_bank.drop('deposit', axis=1)\n",
        "\n",
        "# Select Target\n",
        "Target_Feature = df_bank['deposit']\n",
        "\n",
        "# Set Training and Testing Data\n",
        "from sklearn.model_selection import train_test_split\n",
        "X_train, X_test, Y_train, Y_test = train_test_split(Descriptive_Features , Target_Feature,\n",
        "                                                    shuffle = True,\n",
        "                                                    test_size=0.2,\n",
        "                                                    random_state=1)\n",
        "# Show the Training and Testing Data\n",
        "print('Shape of training features:', X_train.shape)\n",
        "print('Shape of testing features:', X_test.shape)\n",
        "print('Shape of training label (target feature):', Y_train.shape)\n",
        "print('Shape of testing label (target feature):', Y_test.shape)"
      ]
    },
    {
      "cell_type": "code",
      "execution_count": null,
      "metadata": {
        "colab": {
          "base_uri": "https://localhost:8080/",
          "height": 329
        },
        "id": "6vD99rAn9RWI",
        "outputId": "3c3d2cdd-39b4-41d0-ea77-8ba49381f1ca"
      },
      "outputs": [
        {
          "ename": "ValueError",
          "evalue": "could not convert string to float: 'blue-collar'",
          "output_type": "error",
          "traceback": [
            "\u001b[0;31m---------------------------------------------------------------------------\u001b[0m",
            "\u001b[0;31mValueError\u001b[0m                                Traceback (most recent call last)",
            "\u001b[0;32m<ipython-input-10-7462fdae8d95>\u001b[0m in \u001b[0;36m<cell line: 4>\u001b[0;34m()\u001b[0m\n\u001b[1;32m      2\u001b[0m \u001b[0;32mfrom\u001b[0m \u001b[0msklearn\u001b[0m\u001b[0;34m.\u001b[0m\u001b[0mneighbors\u001b[0m \u001b[0;32mimport\u001b[0m \u001b[0mKNeighborsClassifier\u001b[0m\u001b[0;34m\u001b[0m\u001b[0;34m\u001b[0m\u001b[0m\n\u001b[1;32m      3\u001b[0m \u001b[0mKNN\u001b[0m \u001b[0;34m=\u001b[0m \u001b[0mKNeighborsClassifier\u001b[0m\u001b[0;34m(\u001b[0m\u001b[0mn_neighbors\u001b[0m\u001b[0;34m=\u001b[0m\u001b[0;36m3\u001b[0m\u001b[0;34m)\u001b[0m\u001b[0;34m\u001b[0m\u001b[0;34m\u001b[0m\u001b[0m\n\u001b[0;32m----> 4\u001b[0;31m \u001b[0mKNN\u001b[0m\u001b[0;34m.\u001b[0m\u001b[0mfit\u001b[0m\u001b[0;34m(\u001b[0m\u001b[0mX_train\u001b[0m\u001b[0;34m,\u001b[0m \u001b[0mY_train\u001b[0m\u001b[0;34m)\u001b[0m\u001b[0;34m\u001b[0m\u001b[0;34m\u001b[0m\u001b[0m\n\u001b[0m",
            "\u001b[0;32m/usr/local/lib/python3.10/dist-packages/sklearn/neighbors/_classification.py\u001b[0m in \u001b[0;36mfit\u001b[0;34m(self, X, y)\u001b[0m\n\u001b[1;32m    213\u001b[0m         \u001b[0mself\u001b[0m\u001b[0;34m.\u001b[0m\u001b[0m_validate_params\u001b[0m\u001b[0;34m(\u001b[0m\u001b[0;34m)\u001b[0m\u001b[0;34m\u001b[0m\u001b[0;34m\u001b[0m\u001b[0m\n\u001b[1;32m    214\u001b[0m \u001b[0;34m\u001b[0m\u001b[0m\n\u001b[0;32m--> 215\u001b[0;31m         \u001b[0;32mreturn\u001b[0m \u001b[0mself\u001b[0m\u001b[0;34m.\u001b[0m\u001b[0m_fit\u001b[0m\u001b[0;34m(\u001b[0m\u001b[0mX\u001b[0m\u001b[0;34m,\u001b[0m \u001b[0my\u001b[0m\u001b[0;34m)\u001b[0m\u001b[0;34m\u001b[0m\u001b[0;34m\u001b[0m\u001b[0m\n\u001b[0m\u001b[1;32m    216\u001b[0m \u001b[0;34m\u001b[0m\u001b[0m\n\u001b[1;32m    217\u001b[0m     \u001b[0;32mdef\u001b[0m \u001b[0mpredict\u001b[0m\u001b[0;34m(\u001b[0m\u001b[0mself\u001b[0m\u001b[0;34m,\u001b[0m \u001b[0mX\u001b[0m\u001b[0;34m)\u001b[0m\u001b[0;34m:\u001b[0m\u001b[0;34m\u001b[0m\u001b[0;34m\u001b[0m\u001b[0m\n",
            "\u001b[0;32m/usr/local/lib/python3.10/dist-packages/sklearn/neighbors/_base.py\u001b[0m in \u001b[0;36m_fit\u001b[0;34m(self, X, y)\u001b[0m\n\u001b[1;32m    452\u001b[0m         \u001b[0;32mif\u001b[0m \u001b[0mself\u001b[0m\u001b[0;34m.\u001b[0m\u001b[0m_get_tags\u001b[0m\u001b[0;34m(\u001b[0m\u001b[0;34m)\u001b[0m\u001b[0;34m[\u001b[0m\u001b[0;34m\"requires_y\"\u001b[0m\u001b[0;34m]\u001b[0m\u001b[0;34m:\u001b[0m\u001b[0;34m\u001b[0m\u001b[0;34m\u001b[0m\u001b[0m\n\u001b[1;32m    453\u001b[0m             \u001b[0;32mif\u001b[0m \u001b[0;32mnot\u001b[0m \u001b[0misinstance\u001b[0m\u001b[0;34m(\u001b[0m\u001b[0mX\u001b[0m\u001b[0;34m,\u001b[0m \u001b[0;34m(\u001b[0m\u001b[0mKDTree\u001b[0m\u001b[0;34m,\u001b[0m \u001b[0mBallTree\u001b[0m\u001b[0;34m,\u001b[0m \u001b[0mNeighborsBase\u001b[0m\u001b[0;34m)\u001b[0m\u001b[0;34m)\u001b[0m\u001b[0;34m:\u001b[0m\u001b[0;34m\u001b[0m\u001b[0;34m\u001b[0m\u001b[0m\n\u001b[0;32m--> 454\u001b[0;31m                 X, y = self._validate_data(\n\u001b[0m\u001b[1;32m    455\u001b[0m                     \u001b[0mX\u001b[0m\u001b[0;34m,\u001b[0m \u001b[0my\u001b[0m\u001b[0;34m,\u001b[0m \u001b[0maccept_sparse\u001b[0m\u001b[0;34m=\u001b[0m\u001b[0;34m\"csr\"\u001b[0m\u001b[0;34m,\u001b[0m \u001b[0mmulti_output\u001b[0m\u001b[0;34m=\u001b[0m\u001b[0;32mTrue\u001b[0m\u001b[0;34m,\u001b[0m \u001b[0morder\u001b[0m\u001b[0;34m=\u001b[0m\u001b[0;34m\"C\"\u001b[0m\u001b[0;34m\u001b[0m\u001b[0;34m\u001b[0m\u001b[0m\n\u001b[1;32m    456\u001b[0m                 )\n",
            "\u001b[0;32m/usr/local/lib/python3.10/dist-packages/sklearn/base.py\u001b[0m in \u001b[0;36m_validate_data\u001b[0;34m(self, X, y, reset, validate_separately, **check_params)\u001b[0m\n\u001b[1;32m    582\u001b[0m                 \u001b[0my\u001b[0m \u001b[0;34m=\u001b[0m \u001b[0mcheck_array\u001b[0m\u001b[0;34m(\u001b[0m\u001b[0my\u001b[0m\u001b[0;34m,\u001b[0m \u001b[0minput_name\u001b[0m\u001b[0;34m=\u001b[0m\u001b[0;34m\"y\"\u001b[0m\u001b[0;34m,\u001b[0m \u001b[0;34m**\u001b[0m\u001b[0mcheck_y_params\u001b[0m\u001b[0;34m)\u001b[0m\u001b[0;34m\u001b[0m\u001b[0;34m\u001b[0m\u001b[0m\n\u001b[1;32m    583\u001b[0m             \u001b[0;32melse\u001b[0m\u001b[0;34m:\u001b[0m\u001b[0;34m\u001b[0m\u001b[0;34m\u001b[0m\u001b[0m\n\u001b[0;32m--> 584\u001b[0;31m                 \u001b[0mX\u001b[0m\u001b[0;34m,\u001b[0m \u001b[0my\u001b[0m \u001b[0;34m=\u001b[0m \u001b[0mcheck_X_y\u001b[0m\u001b[0;34m(\u001b[0m\u001b[0mX\u001b[0m\u001b[0;34m,\u001b[0m \u001b[0my\u001b[0m\u001b[0;34m,\u001b[0m \u001b[0;34m**\u001b[0m\u001b[0mcheck_params\u001b[0m\u001b[0;34m)\u001b[0m\u001b[0;34m\u001b[0m\u001b[0;34m\u001b[0m\u001b[0m\n\u001b[0m\u001b[1;32m    585\u001b[0m             \u001b[0mout\u001b[0m \u001b[0;34m=\u001b[0m \u001b[0mX\u001b[0m\u001b[0;34m,\u001b[0m \u001b[0my\u001b[0m\u001b[0;34m\u001b[0m\u001b[0;34m\u001b[0m\u001b[0m\n\u001b[1;32m    586\u001b[0m \u001b[0;34m\u001b[0m\u001b[0m\n",
            "\u001b[0;32m/usr/local/lib/python3.10/dist-packages/sklearn/utils/validation.py\u001b[0m in \u001b[0;36mcheck_X_y\u001b[0;34m(X, y, accept_sparse, accept_large_sparse, dtype, order, copy, force_all_finite, ensure_2d, allow_nd, multi_output, ensure_min_samples, ensure_min_features, y_numeric, estimator)\u001b[0m\n\u001b[1;32m   1104\u001b[0m         )\n\u001b[1;32m   1105\u001b[0m \u001b[0;34m\u001b[0m\u001b[0m\n\u001b[0;32m-> 1106\u001b[0;31m     X = check_array(\n\u001b[0m\u001b[1;32m   1107\u001b[0m         \u001b[0mX\u001b[0m\u001b[0;34m,\u001b[0m\u001b[0;34m\u001b[0m\u001b[0;34m\u001b[0m\u001b[0m\n\u001b[1;32m   1108\u001b[0m         \u001b[0maccept_sparse\u001b[0m\u001b[0;34m=\u001b[0m\u001b[0maccept_sparse\u001b[0m\u001b[0;34m,\u001b[0m\u001b[0;34m\u001b[0m\u001b[0;34m\u001b[0m\u001b[0m\n",
            "\u001b[0;32m/usr/local/lib/python3.10/dist-packages/sklearn/utils/validation.py\u001b[0m in \u001b[0;36mcheck_array\u001b[0;34m(array, accept_sparse, accept_large_sparse, dtype, order, copy, force_all_finite, ensure_2d, allow_nd, ensure_min_samples, ensure_min_features, estimator, input_name)\u001b[0m\n\u001b[1;32m    877\u001b[0m                     \u001b[0marray\u001b[0m \u001b[0;34m=\u001b[0m \u001b[0mxp\u001b[0m\u001b[0;34m.\u001b[0m\u001b[0mastype\u001b[0m\u001b[0;34m(\u001b[0m\u001b[0marray\u001b[0m\u001b[0;34m,\u001b[0m \u001b[0mdtype\u001b[0m\u001b[0;34m,\u001b[0m \u001b[0mcopy\u001b[0m\u001b[0;34m=\u001b[0m\u001b[0;32mFalse\u001b[0m\u001b[0;34m)\u001b[0m\u001b[0;34m\u001b[0m\u001b[0;34m\u001b[0m\u001b[0m\n\u001b[1;32m    878\u001b[0m                 \u001b[0;32melse\u001b[0m\u001b[0;34m:\u001b[0m\u001b[0;34m\u001b[0m\u001b[0;34m\u001b[0m\u001b[0m\n\u001b[0;32m--> 879\u001b[0;31m                     \u001b[0marray\u001b[0m \u001b[0;34m=\u001b[0m \u001b[0m_asarray_with_order\u001b[0m\u001b[0;34m(\u001b[0m\u001b[0marray\u001b[0m\u001b[0;34m,\u001b[0m \u001b[0morder\u001b[0m\u001b[0;34m=\u001b[0m\u001b[0morder\u001b[0m\u001b[0;34m,\u001b[0m \u001b[0mdtype\u001b[0m\u001b[0;34m=\u001b[0m\u001b[0mdtype\u001b[0m\u001b[0;34m,\u001b[0m \u001b[0mxp\u001b[0m\u001b[0;34m=\u001b[0m\u001b[0mxp\u001b[0m\u001b[0;34m)\u001b[0m\u001b[0;34m\u001b[0m\u001b[0;34m\u001b[0m\u001b[0m\n\u001b[0m\u001b[1;32m    880\u001b[0m             \u001b[0;32mexcept\u001b[0m \u001b[0mComplexWarning\u001b[0m \u001b[0;32mas\u001b[0m \u001b[0mcomplex_warning\u001b[0m\u001b[0;34m:\u001b[0m\u001b[0;34m\u001b[0m\u001b[0;34m\u001b[0m\u001b[0m\n\u001b[1;32m    881\u001b[0m                 raise ValueError(\n",
            "\u001b[0;32m/usr/local/lib/python3.10/dist-packages/sklearn/utils/_array_api.py\u001b[0m in \u001b[0;36m_asarray_with_order\u001b[0;34m(array, dtype, order, copy, xp)\u001b[0m\n\u001b[1;32m    183\u001b[0m     \u001b[0;32mif\u001b[0m \u001b[0mxp\u001b[0m\u001b[0;34m.\u001b[0m\u001b[0m__name__\u001b[0m \u001b[0;32min\u001b[0m \u001b[0;34m{\u001b[0m\u001b[0;34m\"numpy\"\u001b[0m\u001b[0;34m,\u001b[0m \u001b[0;34m\"numpy.array_api\"\u001b[0m\u001b[0;34m}\u001b[0m\u001b[0;34m:\u001b[0m\u001b[0;34m\u001b[0m\u001b[0;34m\u001b[0m\u001b[0m\n\u001b[1;32m    184\u001b[0m         \u001b[0;31m# Use NumPy API to support order\u001b[0m\u001b[0;34m\u001b[0m\u001b[0;34m\u001b[0m\u001b[0m\n\u001b[0;32m--> 185\u001b[0;31m         \u001b[0marray\u001b[0m \u001b[0;34m=\u001b[0m \u001b[0mnumpy\u001b[0m\u001b[0;34m.\u001b[0m\u001b[0masarray\u001b[0m\u001b[0;34m(\u001b[0m\u001b[0marray\u001b[0m\u001b[0;34m,\u001b[0m \u001b[0morder\u001b[0m\u001b[0;34m=\u001b[0m\u001b[0morder\u001b[0m\u001b[0;34m,\u001b[0m \u001b[0mdtype\u001b[0m\u001b[0;34m=\u001b[0m\u001b[0mdtype\u001b[0m\u001b[0;34m)\u001b[0m\u001b[0;34m\u001b[0m\u001b[0;34m\u001b[0m\u001b[0m\n\u001b[0m\u001b[1;32m    186\u001b[0m         \u001b[0;32mreturn\u001b[0m \u001b[0mxp\u001b[0m\u001b[0;34m.\u001b[0m\u001b[0masarray\u001b[0m\u001b[0;34m(\u001b[0m\u001b[0marray\u001b[0m\u001b[0;34m,\u001b[0m \u001b[0mcopy\u001b[0m\u001b[0;34m=\u001b[0m\u001b[0mcopy\u001b[0m\u001b[0;34m)\u001b[0m\u001b[0;34m\u001b[0m\u001b[0;34m\u001b[0m\u001b[0m\n\u001b[1;32m    187\u001b[0m     \u001b[0;32melse\u001b[0m\u001b[0;34m:\u001b[0m\u001b[0;34m\u001b[0m\u001b[0;34m\u001b[0m\u001b[0m\n",
            "\u001b[0;32m/usr/local/lib/python3.10/dist-packages/pandas/core/generic.py\u001b[0m in \u001b[0;36m__array__\u001b[0;34m(self, dtype)\u001b[0m\n\u001b[1;32m   1996\u001b[0m     \u001b[0;32mdef\u001b[0m \u001b[0m__array__\u001b[0m\u001b[0;34m(\u001b[0m\u001b[0mself\u001b[0m\u001b[0;34m,\u001b[0m \u001b[0mdtype\u001b[0m\u001b[0;34m:\u001b[0m \u001b[0mnpt\u001b[0m\u001b[0;34m.\u001b[0m\u001b[0mDTypeLike\u001b[0m \u001b[0;34m|\u001b[0m \u001b[0;32mNone\u001b[0m \u001b[0;34m=\u001b[0m \u001b[0;32mNone\u001b[0m\u001b[0;34m)\u001b[0m \u001b[0;34m->\u001b[0m \u001b[0mnp\u001b[0m\u001b[0;34m.\u001b[0m\u001b[0mndarray\u001b[0m\u001b[0;34m:\u001b[0m\u001b[0;34m\u001b[0m\u001b[0;34m\u001b[0m\u001b[0m\n\u001b[1;32m   1997\u001b[0m         \u001b[0mvalues\u001b[0m \u001b[0;34m=\u001b[0m \u001b[0mself\u001b[0m\u001b[0;34m.\u001b[0m\u001b[0m_values\u001b[0m\u001b[0;34m\u001b[0m\u001b[0;34m\u001b[0m\u001b[0m\n\u001b[0;32m-> 1998\u001b[0;31m         \u001b[0marr\u001b[0m \u001b[0;34m=\u001b[0m \u001b[0mnp\u001b[0m\u001b[0;34m.\u001b[0m\u001b[0masarray\u001b[0m\u001b[0;34m(\u001b[0m\u001b[0mvalues\u001b[0m\u001b[0;34m,\u001b[0m \u001b[0mdtype\u001b[0m\u001b[0;34m=\u001b[0m\u001b[0mdtype\u001b[0m\u001b[0;34m)\u001b[0m\u001b[0;34m\u001b[0m\u001b[0;34m\u001b[0m\u001b[0m\n\u001b[0m\u001b[1;32m   1999\u001b[0m         if (\n\u001b[1;32m   2000\u001b[0m             \u001b[0mastype_is_view\u001b[0m\u001b[0;34m(\u001b[0m\u001b[0mvalues\u001b[0m\u001b[0;34m.\u001b[0m\u001b[0mdtype\u001b[0m\u001b[0;34m,\u001b[0m \u001b[0marr\u001b[0m\u001b[0;34m.\u001b[0m\u001b[0mdtype\u001b[0m\u001b[0;34m)\u001b[0m\u001b[0;34m\u001b[0m\u001b[0;34m\u001b[0m\u001b[0m\n",
            "\u001b[0;31mValueError\u001b[0m: could not convert string to float: 'blue-collar'"
          ]
        }
      ],
      "source": [
        "# Let's train a KNN model first, see if the raw data is working\n",
        "from sklearn.neighbors import KNeighborsClassifier\n",
        "KNN = KNeighborsClassifier(n_neighbors=3)\n",
        "KNN.fit(X_train, Y_train)"
      ]
    },
    {
      "cell_type": "markdown",
      "metadata": {
        "id": "Rs2A-kw9-vFZ"
      },
      "source": [
        "\\*We encountered an error: \"ValueError: could not convert string to float.\" This occurred because our dataset contains features that are **strings**. The machine learning models we are using only accept **numeric** data. How can we resolve this?"
      ]
    },
    {
      "cell_type": "markdown",
      "metadata": {
        "id": "zalrJi4Fik-7"
      },
      "source": [
        "## 1.2 Categorical Encoding\n",
        "\n",
        "Let's fix the problem we faced perform categorical encoding\n",
        "\n",
        "**Encode Categorical Value**\n",
        "\n",
        "In order to feed the data to ML model, we need to pre-process our categorical data from words to number to make it easier for the computer to understands. To do this we will use `OneHotEncoder()` provided by sklearn. Basically it will transform a categorical column from this:\n",
        "\n",
        "| marital | housing |\n",
        "|----------|---------|\n",
        "| single   | yes     |\n",
        "| divorced | no      |\n",
        "| married  | no      |\n",
        "\n",
        "\n",
        "**LabelEncoder** maps the unique categories to a unique number:\n",
        "\n",
        "| marital | housing |\n",
        "|----------|---------|\n",
        "|    1     |    1    |\n",
        "|    2     |    2    |\n",
        "|    3     |    2    |\n",
        "\n",
        "\n",
        "**OneHotEncoder** turns this into something like this...\n",
        "\n",
        "| marital_single | marital_divorced | marital_married | housing_yes | housing_no |\n",
        "|----------------|------------------|-----------------|-------------|------------|\n",
        "| 1              | 0                | 0               | 1           | 0          |\n",
        "| 0              | 1                | 0               | 0           | 1          |\n",
        "| 0              | 0                | 1               | 0           | 1          |\n",
        "\n",
        "\n",
        "In this code cell we will also encode our label column by replacing 'yes' and 'no' with 1 and 0 respectively. We can do this by applying simple lambda/in-line function on the column.\n"
      ]
    },
    {
      "cell_type": "code",
      "execution_count": 4,
      "metadata": {
        "id": "80UTZvuZBN8p"
      },
      "outputs": [],
      "source": [
        "# Load dataset again\n",
        "df_bank = pd.read_csv('https://raw.githubusercontent.com/rafiag/DTI2020/main/data/bank.csv')"
      ]
    },
    {
      "cell_type": "markdown",
      "metadata": {
        "id": "s-rFNsfhGzra"
      },
      "source": [
        "Let's run the model as soon as possible to establish a working baseline (Good practice).\n",
        "\n",
        "**Important Question**: Are we allowed to use all the features provided in this dataset? Let's do a quick easibility study.\n",
        "\n",
        "<font color=\"green\">**Hint:**</font>\n",
        "There is one descriptive feature that __MUST__ be excluded from analysis.\n"
      ]
    },
    {
      "cell_type": "code",
      "execution_count": 5,
      "metadata": {
        "id": "QZx1PfG1f783"
      },
      "outputs": [],
      "source": [
        "# remove the 'duration' column to avoid 'data leakage'\n",
        "df_bank = df_bank.drop('duration', axis=1)"
      ]
    },
    {
      "cell_type": "markdown",
      "metadata": {
        "id": "nNBn-UsCGXjt"
      },
      "source": [
        "According to the dataset documentation, we need to remove the **'duration'** column because in real-case the duration is only known after the label column is known. This problem can be considered to be 'data leakage' where predictors include data that will not be available at the time you make predictions."
      ]
    },
    {
      "cell_type": "code",
      "execution_count": 6,
      "metadata": {
        "id": "wtjqQ84yBVA_"
      },
      "outputs": [],
      "source": [
        "# Categorical Encoding\n",
        "from sklearn.preprocessing import OneHotEncoder\n",
        "encoder = OneHotEncoder(sparse_output=False)\n",
        "cat_cols = ['job', 'marital', 'education', 'default', 'housing', 'loan', 'contact', 'month', 'poutcome']\n",
        "# Encode Categorical Data\n",
        "df_encoded = pd.DataFrame(encoder.fit_transform(df_bank[cat_cols]))\n",
        "# Set Columns Name for Encoded Data\n",
        "df_encoded.columns = encoder.get_feature_names_out(cat_cols)"
      ]
    },
    {
      "cell_type": "code",
      "execution_count": 7,
      "metadata": {
        "id": "tbWO7dg8B-vn"
      },
      "outputs": [],
      "source": [
        "# Replace Categotical Data with Encoded Data\n",
        "df_bank = df_bank.drop(cat_cols ,axis=1)\n",
        "df_bank = pd.concat([df_encoded, df_bank], axis=1)"
      ]
    },
    {
      "cell_type": "code",
      "execution_count": 8,
      "metadata": {
        "colab": {
          "base_uri": "https://localhost:8080/",
          "height": 291
        },
        "id": "RFUVt4KICDxh",
        "outputId": "4fc034ce-f4a8-4108-dc1c-c25cd1e63735"
      },
      "outputs": [
        {
          "name": "stdout",
          "output_type": "stream",
          "text": [
            "Shape of dataframe: (11162, 51)\n"
          ]
        },
        {
          "data": {
            "text/html": [
              "<div>\n",
              "<style scoped>\n",
              "    .dataframe tbody tr th:only-of-type {\n",
              "        vertical-align: middle;\n",
              "    }\n",
              "\n",
              "    .dataframe tbody tr th {\n",
              "        vertical-align: top;\n",
              "    }\n",
              "\n",
              "    .dataframe thead th {\n",
              "        text-align: right;\n",
              "    }\n",
              "</style>\n",
              "<table border=\"1\" class=\"dataframe\">\n",
              "  <thead>\n",
              "    <tr style=\"text-align: right;\">\n",
              "      <th></th>\n",
              "      <th>job_admin.</th>\n",
              "      <th>job_blue-collar</th>\n",
              "      <th>job_entrepreneur</th>\n",
              "      <th>job_housemaid</th>\n",
              "      <th>job_management</th>\n",
              "      <th>job_retired</th>\n",
              "      <th>job_self-employed</th>\n",
              "      <th>job_services</th>\n",
              "      <th>job_student</th>\n",
              "      <th>job_technician</th>\n",
              "      <th>...</th>\n",
              "      <th>poutcome_other</th>\n",
              "      <th>poutcome_success</th>\n",
              "      <th>poutcome_unknown</th>\n",
              "      <th>age</th>\n",
              "      <th>balance</th>\n",
              "      <th>day</th>\n",
              "      <th>campaign</th>\n",
              "      <th>pdays</th>\n",
              "      <th>previous</th>\n",
              "      <th>deposit</th>\n",
              "    </tr>\n",
              "  </thead>\n",
              "  <tbody>\n",
              "    <tr>\n",
              "      <th>0</th>\n",
              "      <td>1.0</td>\n",
              "      <td>0.0</td>\n",
              "      <td>0.0</td>\n",
              "      <td>0.0</td>\n",
              "      <td>0.0</td>\n",
              "      <td>0.0</td>\n",
              "      <td>0.0</td>\n",
              "      <td>0.0</td>\n",
              "      <td>0.0</td>\n",
              "      <td>0.0</td>\n",
              "      <td>...</td>\n",
              "      <td>0.0</td>\n",
              "      <td>0.0</td>\n",
              "      <td>1.0</td>\n",
              "      <td>59</td>\n",
              "      <td>2343</td>\n",
              "      <td>5</td>\n",
              "      <td>1</td>\n",
              "      <td>-1</td>\n",
              "      <td>0</td>\n",
              "      <td>1</td>\n",
              "    </tr>\n",
              "    <tr>\n",
              "      <th>1</th>\n",
              "      <td>1.0</td>\n",
              "      <td>0.0</td>\n",
              "      <td>0.0</td>\n",
              "      <td>0.0</td>\n",
              "      <td>0.0</td>\n",
              "      <td>0.0</td>\n",
              "      <td>0.0</td>\n",
              "      <td>0.0</td>\n",
              "      <td>0.0</td>\n",
              "      <td>0.0</td>\n",
              "      <td>...</td>\n",
              "      <td>0.0</td>\n",
              "      <td>0.0</td>\n",
              "      <td>1.0</td>\n",
              "      <td>56</td>\n",
              "      <td>45</td>\n",
              "      <td>5</td>\n",
              "      <td>1</td>\n",
              "      <td>-1</td>\n",
              "      <td>0</td>\n",
              "      <td>1</td>\n",
              "    </tr>\n",
              "    <tr>\n",
              "      <th>2</th>\n",
              "      <td>0.0</td>\n",
              "      <td>0.0</td>\n",
              "      <td>0.0</td>\n",
              "      <td>0.0</td>\n",
              "      <td>0.0</td>\n",
              "      <td>0.0</td>\n",
              "      <td>0.0</td>\n",
              "      <td>0.0</td>\n",
              "      <td>0.0</td>\n",
              "      <td>1.0</td>\n",
              "      <td>...</td>\n",
              "      <td>0.0</td>\n",
              "      <td>0.0</td>\n",
              "      <td>1.0</td>\n",
              "      <td>41</td>\n",
              "      <td>1270</td>\n",
              "      <td>5</td>\n",
              "      <td>1</td>\n",
              "      <td>-1</td>\n",
              "      <td>0</td>\n",
              "      <td>1</td>\n",
              "    </tr>\n",
              "    <tr>\n",
              "      <th>3</th>\n",
              "      <td>0.0</td>\n",
              "      <td>0.0</td>\n",
              "      <td>0.0</td>\n",
              "      <td>0.0</td>\n",
              "      <td>0.0</td>\n",
              "      <td>0.0</td>\n",
              "      <td>0.0</td>\n",
              "      <td>1.0</td>\n",
              "      <td>0.0</td>\n",
              "      <td>0.0</td>\n",
              "      <td>...</td>\n",
              "      <td>0.0</td>\n",
              "      <td>0.0</td>\n",
              "      <td>1.0</td>\n",
              "      <td>55</td>\n",
              "      <td>2476</td>\n",
              "      <td>5</td>\n",
              "      <td>1</td>\n",
              "      <td>-1</td>\n",
              "      <td>0</td>\n",
              "      <td>1</td>\n",
              "    </tr>\n",
              "    <tr>\n",
              "      <th>4</th>\n",
              "      <td>1.0</td>\n",
              "      <td>0.0</td>\n",
              "      <td>0.0</td>\n",
              "      <td>0.0</td>\n",
              "      <td>0.0</td>\n",
              "      <td>0.0</td>\n",
              "      <td>0.0</td>\n",
              "      <td>0.0</td>\n",
              "      <td>0.0</td>\n",
              "      <td>0.0</td>\n",
              "      <td>...</td>\n",
              "      <td>0.0</td>\n",
              "      <td>0.0</td>\n",
              "      <td>1.0</td>\n",
              "      <td>54</td>\n",
              "      <td>184</td>\n",
              "      <td>5</td>\n",
              "      <td>2</td>\n",
              "      <td>-1</td>\n",
              "      <td>0</td>\n",
              "      <td>1</td>\n",
              "    </tr>\n",
              "  </tbody>\n",
              "</table>\n",
              "<p>5 rows × 51 columns</p>\n",
              "</div>"
            ],
            "text/plain": [
              "   job_admin.  job_blue-collar  job_entrepreneur  job_housemaid  \\\n",
              "0         1.0              0.0               0.0            0.0   \n",
              "1         1.0              0.0               0.0            0.0   \n",
              "2         0.0              0.0               0.0            0.0   \n",
              "3         0.0              0.0               0.0            0.0   \n",
              "4         1.0              0.0               0.0            0.0   \n",
              "\n",
              "   job_management  job_retired  job_self-employed  job_services  job_student  \\\n",
              "0             0.0          0.0                0.0           0.0          0.0   \n",
              "1             0.0          0.0                0.0           0.0          0.0   \n",
              "2             0.0          0.0                0.0           0.0          0.0   \n",
              "3             0.0          0.0                0.0           1.0          0.0   \n",
              "4             0.0          0.0                0.0           0.0          0.0   \n",
              "\n",
              "   job_technician  ...  poutcome_other  poutcome_success  poutcome_unknown  \\\n",
              "0             0.0  ...             0.0               0.0               1.0   \n",
              "1             0.0  ...             0.0               0.0               1.0   \n",
              "2             1.0  ...             0.0               0.0               1.0   \n",
              "3             0.0  ...             0.0               0.0               1.0   \n",
              "4             0.0  ...             0.0               0.0               1.0   \n",
              "\n",
              "   age  balance  day  campaign  pdays  previous  deposit  \n",
              "0   59     2343    5         1     -1         0        1  \n",
              "1   56       45    5         1     -1         0        1  \n",
              "2   41     1270    5         1     -1         0        1  \n",
              "3   55     2476    5         1     -1         0        1  \n",
              "4   54      184    5         2     -1         0        1  \n",
              "\n",
              "[5 rows x 51 columns]"
            ]
          },
          "execution_count": 8,
          "metadata": {},
          "output_type": "execute_result"
        }
      ],
      "source": [
        "# Encode target value\n",
        "df_bank['deposit'] = df_bank['deposit'].map({'yes': 1, 'no': 0})\n",
        "print('Shape of dataframe:', df_bank.shape)\n",
        "df_bank.head()"
      ]
    },
    {
      "cell_type": "code",
      "execution_count": 9,
      "metadata": {
        "colab": {
          "base_uri": "https://localhost:8080/"
        },
        "id": "L2Y2bINmCy0-",
        "outputId": "d3222493-30c1-4499-d895-ee7d318a203d"
      },
      "outputs": [
        {
          "name": "stdout",
          "output_type": "stream",
          "text": [
            "Shape of training features: (8929, 50)\n",
            "Shape of testing features: (2233, 50)\n",
            "Shape of training label (target feature): (8929,)\n",
            "Shape of testing label (target feature): (2233,)\n"
          ]
        }
      ],
      "source": [
        "# Let's split the data\n",
        "# Select Features\n",
        "Descriptive_Features = df_bank.drop('deposit', axis=1)\n",
        "# Select Target\n",
        "Target_Feature = df_bank['deposit']\n",
        "\n",
        "# Set Training and Testing Data\n",
        "from sklearn.model_selection import train_test_split\n",
        "X_train, X_test, Y_train, Y_test = train_test_split(Descriptive_Features , Target_Feature,\n",
        "                                                    shuffle = True,\n",
        "                                                    test_size=0.2,\n",
        "                                                    random_state=1)\n",
        "# Show the Training and Testing Data\n",
        "print('Shape of training features:', X_train.shape)\n",
        "print('Shape of testing features:', X_test.shape)\n",
        "print('Shape of training label (target feature):', Y_train.shape)\n",
        "print('Shape of testing label (target feature):', Y_test.shape)"
      ]
    },
    {
      "cell_type": "markdown",
      "metadata": {
        "id": "tXMfzNX8DjL3"
      },
      "source": [
        "## 1.3 Train and Test with KNN"
      ]
    },
    {
      "cell_type": "code",
      "execution_count": null,
      "metadata": {
        "colab": {
          "base_uri": "https://localhost:8080/",
          "height": 200
        },
        "id": "4hDFYZUsDeSN",
        "outputId": "47fe3542-628d-4ddf-b546-b6005a9edff8"
      },
      "outputs": [],
      "source": [
        "from sklearn import metrics\n",
        "from sklearn.neighbors import KNeighborsClassifier\n",
        "\n",
        "# Building Decision Tree model\n",
        "KNN = KNeighborsClassifier(n_neighbors=3)\n",
        "KNN.fit(X_train, Y_train)\n",
        "\n",
        "#Testing the model using the test data\n",
        "Y_pred = KNN.predict(X_test)\n",
        "\n",
        "#Let's calculate jaccard score for this model\n",
        "precision = metrics.precision_score(Y_test,Y_pred)\n",
        "recall = metrics.recall_score(Y_test,Y_pred)\n",
        "jaccard = metrics.jaccard_score(Y_test,Y_pred)\n",
        "f1 = metrics.f1_score(Y_test,Y_pred)\n",
        "print('\\n' + '>> KNN Classification' + '\\n')\n",
        "print('The Percision for this model is {:.3f}'.format(precision))\n",
        "print('The Recall for this model is {:.3f}'.format(recall))\n",
        "print('The F1/Dice for this model is {:.3f}'.format(f1))\n",
        "print('The Jaccard/IoU for this model is {:.3f}'.format(jaccard))"
      ]
    },
    {
      "cell_type": "markdown",
      "metadata": {
        "id": "vRj7GfTcD_T1"
      },
      "source": [
        "## 1.4 Train and Test with Decision Tree"
      ]
    },
    {
      "cell_type": "code",
      "execution_count": null,
      "metadata": {
        "colab": {
          "base_uri": "https://localhost:8080/",
          "height": 200
        },
        "id": "q5EU_TOIEGXN",
        "outputId": "57d2260e-0139-4904-d157-4fee31f08667"
      },
      "outputs": [],
      "source": [
        "from sklearn.tree import DecisionTreeClassifier\n",
        "\n",
        "# Building Decision Tree model\n",
        "DT = DecisionTreeClassifier(criterion=\"entropy\", random_state=0, max_depth=4)\n",
        "DT.fit(X_train, Y_train)\n",
        "\n",
        "#Testing the model using the test data\n",
        "Y_pred = DT.predict(X_test)\n",
        "\n",
        "#Let's calculate jaccard score for this model\n",
        "precision = metrics.precision_score(Y_test,Y_pred)\n",
        "recall = metrics.recall_score(Y_test,Y_pred)\n",
        "jaccard = metrics.jaccard_score(Y_test,Y_pred)\n",
        "f1 = metrics.f1_score(Y_test,Y_pred)\n",
        "print('\\n' + '>> Decision Tree Classification' + '\\n')\n",
        "print('The Percision for this model is {:.3f}'.format(precision))\n",
        "print('The Recall for this model is {:.3f}'.format(recall))\n",
        "print('The F1/Dice for this model is {:.3f}'.format(f1))\n",
        "print('The Jaccard for this model is {:.3f}'.format(jaccard))"
      ]
    },
    {
      "cell_type": "markdown",
      "metadata": {
        "id": "kq3W0h1JEqk6"
      },
      "source": [
        "## 1.5 Train and Test with DNN Model"
      ]
    },
    {
      "cell_type": "code",
      "execution_count": null,
      "metadata": {
        "colab": {
          "base_uri": "https://localhost:8080/"
        },
        "id": "68yu8KX23qoY",
        "outputId": "28aaf3fe-a837-4c0f-a34f-40452d3c975a"
      },
      "outputs": [],
      "source": [
        "from tensorflow.keras.models import Sequential\n",
        "from tensorflow.keras.layers import Dense, Dropout\n",
        "from sklearn.preprocessing import StandardScaler\n",
        "\n",
        "\n",
        "# Standardize the data\n",
        "scaler = StandardScaler()\n",
        "X_train_scaled = scaler.fit_transform(X_train)\n",
        "X_test_scaled = scaler.transform(X_test)\n",
        "\n",
        "# Build a simple DNN model\n",
        "model = Sequential([\n",
        "    Dense(128, activation='relu', input_shape=(X_train_scaled.shape[1],)),\n",
        "    Dropout(0.5),\n",
        "    Dense(64, activation='relu'),\n",
        "    Dropout(0.5),\n",
        "    Dense(32, activation='relu'),\n",
        "    Dropout(0.5),\n",
        "    Dense(1, activation='sigmoid')\n",
        "])\n",
        "\n",
        "# Compile the model\n",
        "model.compile(optimizer='adam',\n",
        "              loss='binary_crossentropy',\n",
        "              metrics=['accuracy'])\n",
        "\n",
        "# Train the model\n",
        "history = model.fit(X_train_scaled, Y_train,\n",
        "                    epochs=40,\n",
        "                    batch_size=64,\n",
        "                    validation_data=(X_test_scaled, Y_test))\n",
        "\n",
        "# Evaluate the model\n",
        "Y_pred = model.predict(X_test_scaled)\n",
        "Y_pred_classes = np.round(Y_pred)\n",
        "\n",
        "# Calculate evaluation metrics\n",
        "precision = metrics.precision_score(Y_test, Y_pred_classes)\n",
        "recall = metrics.recall_score(Y_test, Y_pred_classes)\n",
        "f1 = metrics.f1_score(Y_test, Y_pred_classes)\n",
        "jaccard = metrics.jaccard_score(Y_test, Y_pred_classes)\n",
        "\n",
        "print('\\n' + '>> Deep Neural Network Classification' + '\\n')\n",
        "print('The Precision for this model is {:.3f}'.format(precision))\n",
        "print('The Recall for this model is {:.3f}'.format(recall))\n",
        "print('The F1-score for this model is {:.3f}'.format(f1))\n",
        "print('The Jaccard score for this model is {:.3f}'.format(jaccard))\n"
      ]
    },
    {
      "cell_type": "code",
      "execution_count": null,
      "metadata": {
        "colab": {
          "base_uri": "https://localhost:8080/",
          "height": 456
        },
        "id": "KPXARvzL5tIp",
        "outputId": "fbc98eb3-890e-4696-fe92-64ec5c3c5cb2"
      },
      "outputs": [
        {
          "data": {
            "image/png": "[encoded data removed]",
            "text/plain": [
              "<Figure size 1400x500 with 2 Axes>"
            ]
          },
          "metadata": {},
          "output_type": "display_data"
        }
      ],
      "source": [
        "# Plot the learning curves\n",
        "def plot_learning_curves(history):\n",
        "    epochs = range(1, len(history.history['accuracy']) + 1)\n",
        "\n",
        "    # Plot training and validation accuracy values\n",
        "    plt.figure(figsize=(14, 5))\n",
        "\n",
        "    plt.subplot(1, 2, 1)\n",
        "    plt.plot(epochs, history.history['accuracy'], label='Training Accuracy')\n",
        "    plt.plot(epochs, history.history['val_accuracy'], label='Validation Accuracy')\n",
        "    plt.title('Training and Validation Accuracy')\n",
        "    plt.xlabel('Epochs')\n",
        "    plt.ylabel('Accuracy')\n",
        "    plt.legend()\n",
        "\n",
        "    # Plot training and validation loss values\n",
        "    plt.subplot(1, 2, 2)\n",
        "    plt.plot(epochs, history.history['loss'], label='Training Loss')\n",
        "    plt.plot(epochs, history.history['val_loss'], label='Validation Loss')\n",
        "    plt.title('Training and Validation Loss')\n",
        "    plt.xlabel('Epochs')\n",
        "    plt.ylabel('Loss')\n",
        "    plt.legend()\n",
        "\n",
        "    plt.show()\n",
        "\n",
        "plot_learning_curves(history)"
      ]
    },
    {
      "cell_type": "markdown",
      "metadata": {
        "id": "yZHdxPU3IJZV"
      },
      "source": [
        "# Part 2 - Work on Your Data: Feature Engineering\n",
        "## 2.0 Check for Missing Values\n",
        "In some case our data might have missing values in some column, this can be caused some reasons such as human error. We can use the is_null() function from Pandas to check for any missing data and then use the sum() function to see the total of missing values in each column."
      ]
    },
    {
      "cell_type": "code",
      "execution_count": 13,
      "metadata": {
        "id": "NucGvE6IJZxQ"
      },
      "outputs": [],
      "source": [
        "# Load dataset again\n",
        "df_bank = pd.read_csv('https://raw.githubusercontent.com/rafiag/DTI2020/main/data/bank.csv')"
      ]
    },
    {
      "cell_type": "code",
      "execution_count": 14,
      "metadata": {
        "id": "y71vCFDTe8MP"
      },
      "outputs": [],
      "source": [
        "# remove the 'duration' column to avoid 'data leakage'\n",
        "df_bank = df_bank.drop('duration', axis=1)"
      ]
    },
    {
      "cell_type": "code",
      "execution_count": 15,
      "metadata": {
        "colab": {
          "base_uri": "https://localhost:8080/"
        },
        "id": "q58a_dKCXAUe",
        "outputId": "d933727e-18c4-45b8-e7eb-0c8eeecadf2e"
      },
      "outputs": [
        {
          "data": {
            "text/plain": [
              "age          0\n",
              "job          0\n",
              "marital      0\n",
              "education    0\n",
              "default      0\n",
              "balance      0\n",
              "housing      0\n",
              "loan         0\n",
              "contact      0\n",
              "day          0\n",
              "month        0\n",
              "campaign     0\n",
              "pdays        0\n",
              "previous     0\n",
              "poutcome     0\n",
              "deposit      0\n",
              "dtype: int64"
            ]
          },
          "execution_count": 15,
          "metadata": {},
          "output_type": "execute_result"
        }
      ],
      "source": [
        "df_bank.isnull().sum()"
      ]
    },
    {
      "cell_type": "markdown",
      "metadata": {
        "id": "RsXxEFpzXK3V"
      },
      "source": [
        "As you can see from the results, no missing values are found. If there were missing values, you could use the following methods to handle them:\n",
        "1. Remove Missing Values:\n",
        "  - Drop rows or columns with missing values using:   `df.dropna()`  \n",
        "  - Drop rows with missing values in specific columns using:`df.dropna(subset=['column1', 'column2'])`  \n",
        "\n",
        "2. Fill Missing Value:\n",
        "  - Fill with specific value: `df.fillna(value)`  \n",
        "  - Fill with the mean or median of the column: `df['column_name'].fillna(df['column_name'].mean(), inplace=True)` or\n",
        "`df['column_name'].fillna(df['column_name'].median(), inplace=True)`  \n",
        "\n",
        "3. Interpolate Missing Values:\n",
        "  - Use interpolan to estimate missing values: `df.interpolate()`\n",
        "\n",
        "4. Using Advanced Imputation Techniques:\n",
        "  - Use machine learning algorithms to predict and fill in missing values, such as KNN imputer or iterative imputer:  \n",
        "  ```\n",
        "  from sklearn.impute import KNNImputer\n",
        "imputer = KNNImputer(n_neighbors=5)\n",
        "df_imputed = imputer.fit_transform(df)\n",
        "```\n"
      ]
    },
    {
      "cell_type": "markdown",
      "metadata": {
        "id": "8KcBKVZeWmkA"
      },
      "source": [
        "## 2.1 Discretization of Age Feature (NEED YOUR CODE)\n",
        "To perform effective feature engineering, we need to understand the data and features, and derive insights that might be reasonable to apply.\n",
        "\n",
        "Let's look into the age feature as an example."
      ]
    },
    {
      "cell_type": "code",
      "execution_count": 16,
      "metadata": {
        "colab": {
          "base_uri": "https://localhost:8080/",
          "height": 636
        },
        "id": "W_IZaoUEKovu",
        "outputId": "1e59c236-ab09-4ad3-d78a-32ed40a58368"
      },
      "outputs": [
        {
          "data": {
            "image/png": "[encoded data removed]",
            "text/plain": [
              "<Figure size 500x500 with 1 Axes>"
            ]
          },
          "metadata": {},
          "output_type": "display_data"
        },
        {
          "name": "stdout",
          "output_type": "stream",
          "text": [
            "Unique ages (Cardinality): 76\n",
            "Total number of data points: 11162\n",
            "Cardinality of age is much lower than the number of data points: 76 vs 11162\n"
          ]
        }
      ],
      "source": [
        "import seaborn as sb\n",
        "import matplotlib.pyplot as plt\n",
        "import pandas as pd\n",
        "\n",
        "# Plot the distribution of age\n",
        "g1 = sb.displot(df_bank['age'], bins=100, kde=False)\n",
        "plt.title('Distribution of Age')\n",
        "plt.xlabel('Age')\n",
        "plt.ylabel('Frequency')\n",
        "plt.show()\n",
        "\n",
        "# Calculate and print cardinality of age and number of data points\n",
        "unique_ages = df_bank['age'].nunique()\n",
        "total_data_points = df_bank.shape[0]\n",
        "\n",
        "print(f\"Unique ages (Cardinality): {unique_ages}\")\n",
        "print(f\"Total number of data points: {total_data_points}\")\n",
        "print(f\"Cardinality of age is much lower than the number of data points: {unique_ages} vs {total_data_points}\")"
      ]
    },
    {
      "cell_type": "code",
      "execution_count": 17,
      "metadata": {
        "colab": {
          "base_uri": "https://localhost:8080/",
          "height": 449
        },
        "id": "252yFcG2W3BC",
        "outputId": "815e5815-973e-40ee-e479-7bd994f9ae39"
      },
      "outputs": [
        {
          "data": {
            "image/png": "[encoded data removed]",
            "text/plain": [
              "<Figure size 640x480 with 1 Axes>"
            ]
          },
          "metadata": {},
          "output_type": "display_data"
        }
      ],
      "source": [
        "# Box plot is another way to visualization the distribution\n",
        "g2 = sb.boxplot(x=df_bank[\"age\"])"
      ]
    },
    {
      "cell_type": "code",
      "execution_count": null,
      "metadata": {
        "colab": {
          "base_uri": "https://localhost:8080/"
        },
        "id": "9bujtL_-XiFU",
        "outputId": "fc147109-1845-4f8f-e64e-69160eaedc74"
      },
      "outputs": [
        {
          "name": "stdout",
          "output_type": "stream",
          "text": [
            "Unique age:\n",
            " [59 56 41 55 54 42 60 37 28 38 30 29 46 31 35 32 49 43 26 40 33 23 48 45\n",
            " 36 52 53 39 57 51 44 24 50 27 34 47 25 58 61 68 75 22 69 66 85 72 90 67\n",
            " 71 21 74 65 62 83 70 76 77 19 73 63 20 78 95 64 79 82 18 86 84 87 92 81\n",
            " 80 93 88 89]\n",
            "Cardinality for age:  76\n"
          ]
        }
      ],
      "source": [
        "# Check how many unique values in the age feature\n",
        "print('Unique age:\\n', df_bank['age'].unique())\n",
        "print('Cardinality for age: ', df_bank['age'].nunique())"
      ]
    },
    {
      "cell_type": "code",
      "execution_count": null,
      "metadata": {
        "colab": {
          "base_uri": "https://localhost:8080/"
        },
        "id": "4l_iUJ78XwQ1",
        "outputId": "0ae931f8-5017-4cd2-bf97-449db49904d0"
      },
      "outputs": [
        {
          "data": {
            "text/plain": [
              "count    11162.000000\n",
              "mean        41.231948\n",
              "std         11.913369\n",
              "min         18.000000\n",
              "25%         32.000000\n",
              "50%         39.000000\n",
              "75%         49.000000\n",
              "max         95.000000\n",
              "Name: age, dtype: float64"
            ]
          },
          "execution_count": 28,
          "metadata": {},
          "output_type": "execute_result"
        }
      ],
      "source": [
        "# Check summary of age feature\n",
        "df_bank['age'].describe()"
      ]
    },
    {
      "cell_type": "markdown",
      "metadata": {
        "id": "AikEKHjZX795"
      },
      "source": [
        "### **Task 1 [5%]**  \n",
        "After checking the age feature, we found that the range of this feature is large, and there are so many unique values which will increase the difficulty for ML to process.\n",
        "\n",
        "To improve the data, we will employ the data discretization technology - Categorizing continuous variables like age into discrete groups simplifies the data. This makes it easier to analyze patterns and trends within each category, rather than dealing with a wide range of individual ages.\n",
        "\n",
        "Creates a new column \"age_group\" in the df_bank DataFrame by segmenting the \"age\" column into three categories: \"Youth\" (0-17 years), \"Young Adult\" (18-35 years), \"Middle Aged\" (36-55 years) ,and \"Seniors\" (56-120 years).\n",
        "\n"
      ]
    },
    {
      "cell_type": "code",
      "execution_count": null,
      "metadata": {
        "id": "n5cBBPoNaqrn"
      },
      "outputs": [],
      "source": [
        "#### ADD YOUR CODE: Creates a new column \"age_group\" in the df_bank DataFrame by segmenting the \"age\" column into four categories\n",
        "\n",
        "#### ADD YOUR CODE: Drop the \"age\" column since we have new \"age_group\" column\n",
        "\n",
        "#### END OF YOUR CODE"
      ]
    },
    {
      "cell_type": "markdown",
      "metadata": {
        "id": "JZxXruF0brO-"
      },
      "source": [
        "## 2.2 Combine Similar Jobs (NEED YOUR CODE)\n",
        "What kind of jobs do the clients of this bank have? If you cross-reference jobs with default, loan, or housing, there is no apparent relation.\n",
        "\n",
        "Let's look at it and see how we can improve it."
      ]
    },
    {
      "cell_type": "code",
      "execution_count": null,
      "metadata": {
        "id": "67Lmm0elcQdT"
      },
      "outputs": [],
      "source": [
        "# Plot the distribution of job feature\n",
        "fig, ax = plt.subplots()\n",
        "fig.set_size_inches(20, 10)\n",
        "sb.countplot(x = 'job', data = df_bank)\n",
        "ax.set_xlabel('Job', fontsize=15)\n",
        "ax.set_ylabel('Count', fontsize=15)\n",
        "ax.set_title('Job Count Distribution', fontsize=15)\n",
        "ax.tick_params(labelsize=15)\n",
        "sb.despine()"
      ]
    },
    {
      "cell_type": "code",
      "execution_count": null,
      "metadata": {
        "id": "bDrVAL_0ccDq"
      },
      "outputs": [],
      "source": [
        "# Plot the deposit result of each job\n",
        "j_df = pd.DataFrame()\n",
        "j_df['yes'] = df_bank[df_bank['deposit'] == 'yes']['job'].value_counts()\n",
        "j_df['no'] = df_bank[df_bank['deposit'] == 'no']['job'].value_counts()\n",
        "j_df.plot.bar(title = 'Job and deposit')"
      ]
    },
    {
      "cell_type": "markdown",
      "metadata": {
        "id": "dGkwUKDNcuyC"
      },
      "source": [
        "### **Task 2 [10%]**  \n",
        "One thing we could do to strengthen the relationship is to combine similar jobs into categories. These categories can have a clearer relationship with the results.\n",
        "\n",
        "Here is what you want to do:\n",
        "\n",
        "- Replace 'management' and 'admin.' with **'white-collar'**  \n",
        "- Replace 'services' and 'housemaid' with **'pink-collar'**  \n",
        "- Replace 'retired', 'student', 'unemployed', 'unknown' with **'other'**  \n",
        "- Replace 'self-employed', 'entrepreneur' with **'entrepreneur'**  "
      ]
    },
    {
      "cell_type": "code",
      "execution_count": null,
      "metadata": {
        "id": "Amf-LElWdYJI"
      },
      "outputs": [],
      "source": [
        "#### ADD YOUR CODE: Combine similar jobs into categiroes\n",
        "\n",
        "\n",
        "#### END OF YOUR CODE"
      ]
    },
    {
      "cell_type": "code",
      "execution_count": null,
      "metadata": {
        "id": "nz2kI3d4S5l9"
      },
      "outputs": [],
      "source": [
        "## plot the updated job count distribution\n",
        "fig, ax = plt.subplots()\n",
        "fig.set_size_inches(20, 8)\n",
        "sb.countplot(x = 'job', data = df_bank)\n",
        "ax.set_xlabel('Job', fontsize=15)\n",
        "ax.set_ylabel('Count', fontsize=15)\n",
        "ax.set_title('Age Count Distribution', fontsize=15)\n",
        "ax.tick_params(labelsize=15)\n",
        "sb.despine()"
      ]
    },
    {
      "cell_type": "markdown",
      "metadata": {
        "id": "aWqnL5XapNhj"
      },
      "source": [
        "## 2.3 Normalization/Scaling (NEED YOUR CODE)\n",
        "Next up, we will scale our numerical data to avoid outlier presence that can significantly affect our model. Using `MinMaxScaler()` function from sklearn we can scale each our columns that contains numerical data. The scaling will be done using the formula below:\n",
        "\n",
        "**Normalization** often called as Scaling Normalization\n",
        "\n",
        "**Standardization** often called as Z-Score Normalization."
      ]
    },
    {
      "cell_type": "markdown",
      "metadata": {
        "id": "F4uoM8l0U4uu"
      },
      "source": [
        "### **Task 3 [10%]**  \n",
        "Find all the numeric features that are not ranged between 0 and 1. Then apply MinMax Scaling to these features."
      ]
    },
    {
      "cell_type": "code",
      "execution_count": null,
      "metadata": {
        "id": "6IkyS8q7U3GG"
      },
      "outputs": [],
      "source": [
        "#### ADD YOUR CODE: Apply MinMax Scaling to the features that are not ranged between 0 and 1.\n",
        "\n",
        "\n",
        "# Import the preprocessign from sklearn\n",
        "\n",
        "\n",
        "# Define the columns that need this treatment\n",
        "num_cols = []\n",
        "\n",
        "# Apply Transformation\n",
        "df_bank[num_cols] =\n",
        "\n",
        "#### END OF YOUR CODE"
      ]
    },
    {
      "cell_type": "markdown",
      "metadata": {
        "id": "KWF-VtrYqAds"
      },
      "source": [
        "## 2.4 Categorical Feature Encoding (NEED YOUR CODE)\n",
        "Same as the numerical data, we also need to pre-process our categorical data from words to number to make it easier for the computer to understands.There are multiple encoding methods.\n",
        "\n",
        "Scikit-learn (sklearn) provides several methods for encoding categorical data. Here are the main category encoding methods available in scikit-learn:\n",
        "\n",
        "- **OneHotEncoder**: This encoder converts categorical feature(s) into one-hot (binary) encoded columns. Each category is represented as a binary vector with a single high (1) bit and all other bits low (0). [https://scikit-learn.org/stable/modules/generated/sklearn.preprocessing.OneHotEncoder.html#sklearn.preprocessing.OneHotEncoder](https://scikit-learn.org/stable/modules/generated/sklearn.preprocessing.OneHotEncoder.html#sklearn.preprocessing.OneHotEncoder)\n",
        "\n",
        "- **OrdinalEncoder**: This encoder converts each category to an integer value. It assigns integers to categories in the order they appear. [https://scikit-learn.org/stable/modules/generated/sklearn.preprocessing.OrdinalEncoder.html#sklearn.preprocessing.OrdinalEncoder](https://scikit-learn.org/stable/modules/generated/sklearn.preprocessing.OrdinalEncoder.html#sklearn.preprocessing.OrdinalEncoder)\n",
        "\n",
        "- **LabelEncoder**: This encoder is primarily used for labels rather than features. It converts categorical labels to integer values. [https://scikit-learn.org/stable/modules/generated/sklearn.preprocessing.LabelEncoder.html#sklearn.preprocessing.LabelEncoder](https://scikit-learn.org/stable/modules/generated/sklearn.preprocessing.LabelEncoder.html#sklearn.preprocessing.LabelEncoder)"
      ]
    },
    {
      "cell_type": "markdown",
      "metadata": {
        "id": "ELykkDFnYl4R"
      },
      "source": [
        "###  One extra fix:\n",
        "For Poutcome: Let's combine 'unknown' and 'other' as 'other' isn't really match with either 'success' or 'failure'\n"
      ]
    },
    {
      "cell_type": "code",
      "execution_count": null,
      "metadata": {
        "id": "gwQKVBRWYisv"
      },
      "outputs": [],
      "source": [
        "# Combine 'unknown' and 'other' as 'other' isn't really match with either 'success' or 'failure'\n",
        "df_bank['poutcome'] = df_bank['poutcome'].replace(['other'] , 'unknown')\n",
        "df_bank.poutcome.value_counts()"
      ]
    },
    {
      "cell_type": "markdown",
      "metadata": {
        "id": "QHmklFS4f2J5"
      },
      "source": [
        "### **Task 4 [10%]**  \n",
        "\n",
        "Check all categorical features in the dataset and select a proper encoder for each feature. You can use different encoders for different features."
      ]
    },
    {
      "cell_type": "code",
      "execution_count": null,
      "metadata": {
        "id": "JWzp7ziigHqt"
      },
      "outputs": [],
      "source": [
        "print('Shape of dataframe:', df_bank.shape)\n",
        "print('Encoded dataset: ')\n",
        "df_bank.head()"
      ]
    },
    {
      "cell_type": "code",
      "execution_count": null,
      "metadata": {
        "id": "Z6GabINSqSzz"
      },
      "outputs": [],
      "source": [
        "from sklearn.preprocessing import OneHotEncoder\n",
        "# Encode categorical variables into numerical format for machine learning\n",
        "# Use OneHotEncoder to avoid imposing false ordinal relationships between categories\n",
        "\n",
        "encoder = OneHotEncoder(sparse_output=False)\n",
        "\n",
        "#### ADD YOUR CODE: Encode categorical features using OneHotEncoder in the dataset\n",
        "\n",
        "# which features whould be suitable for OneHotEncoder?\n",
        "cat_cols = []\n",
        "\n",
        "# Encode Categorical Data\n",
        "df_encoded =\n",
        "df_encoded.columns =\n",
        "\n",
        "#### END OF YOUR CODE\n",
        "\n",
        "# Replace Categotical Data with Encoded Data\n",
        "df_bank = df_bank.drop(cat_cols ,axis=1)\n",
        "df_bank = pd.concat([df_encoded, df_bank], axis=1)"
      ]
    },
    {
      "cell_type": "code",
      "execution_count": null,
      "metadata": {
        "id": "Lkm5aKQoqlu1"
      },
      "outputs": [],
      "source": [
        "# Encode ordinal categorical variables into numerical format for machine learning\n",
        "# Use LabelEncoder when categories have a clear order or ranking\n",
        "from sklearn.preprocessing import LabelEncoder\n",
        "labelencoder_X = LabelEncoder()\n",
        "\n",
        "#### ADD YOUR CODE: Encode categorical features using LabelEncoder in the dataset\n",
        "\n",
        "# which features whould be suitable for OneHotEncoder?\n",
        "cat_cols = []\n",
        "\n",
        "# Encode Categorical Data\n",
        "df_encoded =\n",
        "df_encoded.columns =\n",
        "\n",
        "#### END OF YOUR CODE\n",
        "\n",
        "# Replace Categotical Data with Encoded Data\n",
        "df_bank = df_bank.drop(cat_cols ,axis=1)\n",
        "df_bank = pd.concat([df_encoded, df_bank], axis=1)"
      ]
    },
    {
      "cell_type": "code",
      "execution_count": null,
      "metadata": {
        "id": "otV0iHVrQR_1"
      },
      "outputs": [],
      "source": [
        "# Lets see the update\n",
        "print('Shape of dataframe:', df_bank.shape)\n",
        "df_bank.head()"
      ]
    },
    {
      "cell_type": "code",
      "execution_count": null,
      "metadata": {
        "id": "U-mSQXTerAfb"
      },
      "outputs": [],
      "source": [
        "# Encode target value from 'yes' and 'no' to '1' and '0'\n",
        "df_bank['deposit'] = df_bank['deposit'].apply(lambda x: 1 if x == 'yes' else 0)\n",
        "\n",
        "print('Shape of dataframe:', df_bank.shape)\n",
        "df_bank.head()"
      ]
    },
    {
      "cell_type": "markdown",
      "metadata": {
        "id": "4XRgHm05rTiY"
      },
      "source": [
        "## 2.5 Interpreting Correlations\n",
        "Interpreting correlations involves understanding the strength and direction of relationships between variables in a dataset, typically measured by correlation coefficients ranging from -1 to 1. A correlation coefficient close to 1 indicates a strong positive relationship, while a coefficient close to -1 indicates a strong negative relationship. A coefficient close to 0 suggests little to no linear relationship between variables. This analysis aids in data exploration, feature selection for machine learning models, model interpretability, and identifying meaningful relationships within the data.\n",
        "\n",
        "Eight things you need to know about interpreting correlations:\n",
        "http://users.sussex.ac.uk/~grahamh/RM1web/Eight%20things%20you%20need%20to%20know%20about%20interpreting%20correlations.pdf"
      ]
    },
    {
      "cell_type": "code",
      "execution_count": null,
      "metadata": {
        "id": "NLFNzle-Sq5J"
      },
      "outputs": [],
      "source": [
        "corr = df_bank.corr()\n",
        "\n",
        "# Plot Correlation Matrix Heatmap\n",
        "plt.figure(figsize = (15,15))\n",
        "cmap = sb.diverging_palette(220, 10, as_cmap=True)\n",
        "sb.heatmap(corr, xticklabels=corr.columns.values, yticklabels=corr.columns.values, cmap=cmap, vmax=.3, center=0, square=True, linewidths=.5, cbar_kws={\"shrink\": .82})\n",
        "plt.title('Heatmap of Correlation Matrix')"
      ]
    },
    {
      "cell_type": "code",
      "execution_count": null,
      "metadata": {
        "id": "rxGF_Jj0sC9y"
      },
      "outputs": [],
      "source": [
        "# Extract the deposit column (the dependent variable)\n",
        "corr_deposite = pd.DataFrame(corr['deposit'].drop('deposit'))\n",
        "corr_deposite.sort_values(by = 'deposit', ascending = False)"
      ]
    },
    {
      "cell_type": "markdown",
      "metadata": {
        "id": "v2TLbFvLsSV7"
      },
      "source": [
        "## 2.6 Split Dataset for Training and Testing\n",
        "To finish up our data pre-processing steps we will split our data into two dataset, training and testing. In this case because we have enough data we will split the data with ratio of 80:20 for training and testing respectively. This will result in our training data having 8929 rows and 2233 rows for the testing data."
      ]
    },
    {
      "cell_type": "code",
      "execution_count": null,
      "metadata": {
        "id": "6RGLvTTmsgua"
      },
      "outputs": [],
      "source": [
        "# Select Features\n",
        "feature = df_bank.drop('deposit', axis=1)\n",
        "\n",
        "# Select Target\n",
        "target = df_bank['deposit']\n",
        "\n",
        "# Set Training and Testing Data\n",
        "from sklearn.model_selection import train_test_split\n",
        "X_train, X_test, Y_train, Y_test = train_test_split(feature , target,\n",
        "                                                    shuffle = True,\n",
        "                                                    test_size=0.2,\n",
        "                                                    random_state=1)\n",
        "\n",
        "# Show the Training and Testing Data\n",
        "print('Shape of training feature:', X_train.shape)\n",
        "print('Shape of testing feature:', X_test.shape)\n",
        "print('Shape of training label:', Y_train.shape)\n",
        "print('Shape of testing label:', Y_test.shape)"
      ]
    },
    {
      "cell_type": "markdown",
      "metadata": {
        "id": "Wfww7_GdZVa5"
      },
      "source": [
        "## 2.7 Over Sampling the Minority Classes (NEED YOUR CODE)\n",
        "Another important thing to make sure before feeding our data into the model is the class distribution of the training set. We want to make sure all the classes in the training have equal number of samples. One important method to achieve this is called **'Over Sampling'**.\n",
        "\n",
        "Synthetic Minority Over Sampling Technique (SMOTE)\n",
        "\n",
        "Learn more:\n",
        "https://imbalanced-learn.org/stable/references/generated/imblearn.over_sampling.SMOTE.html\n",
        "\n",
        "<figure>\n",
        "<center>\n",
        "<img src= 'http://glemaitre.github.io/imbalanced-learn/_images/sphx_glr_plot_adasyn_001.png' width=\"450\" />\n",
        "</center>\n",
        "</figure>"
      ]
    },
    {
      "cell_type": "markdown",
      "metadata": {
        "id": "OY3ir5ZljTEi"
      },
      "source": [
        "### **Task 5 [10%]**"
      ]
    },
    {
      "cell_type": "code",
      "execution_count": null,
      "metadata": {
        "id": "tY6OKd0Djpgz"
      },
      "outputs": [],
      "source": [
        "## Plot original training set distribution\n",
        "print('Shape of training descriptive features:', X_train.shape)\n",
        "print('Shape of training target feature:', Y_train.shape)\n",
        "value_counts = Y_train.value_counts()\n",
        "value_counts.plot.bar(title = 'Deposit value counts')"
      ]
    },
    {
      "cell_type": "code",
      "execution_count": null,
      "metadata": {
        "id": "mOA5BiCNjLhe"
      },
      "outputs": [],
      "source": [
        "#### ADD YOUR CODE: Apply SMOTE to the training set\n",
        "\n",
        "\n",
        "\n",
        "#### END OF YOUR CODE"
      ]
    },
    {
      "cell_type": "code",
      "execution_count": null,
      "metadata": {
        "id": "6-OS7JFYjy-s"
      },
      "outputs": [],
      "source": [
        "## Plot over-sampling training set distribution\n",
        "print('Shape of training descriptive features:', XX_train.shape)\n",
        "print('Shape of training target feature:', YY_train.shape)\n",
        "value_counts = YY_train.value_counts()\n",
        "value_counts.plot.bar(title = 'Deposit value counts')"
      ]
    },
    {
      "cell_type": "markdown",
      "metadata": {
        "id": "riDQMqVks85F"
      },
      "source": [
        "## 2.8 Re-run the Models with Feature Engineering Dataset (NEED YOUR ANSWER)\n",
        "Let's compare the results with our previous run."
      ]
    },
    {
      "cell_type": "code",
      "execution_count": null,
      "metadata": {
        "id": "KdsDxZaJtTbM"
      },
      "outputs": [],
      "source": [
        "from sklearn import metrics\n",
        "from sklearn.neighbors import KNeighborsClassifier\n",
        "\n",
        "# Building Decision Tree model\n",
        "KNN = KNeighborsClassifier(n_neighbors=3)\n",
        "KNN.fit(XX_train, YY_train)\n",
        "\n",
        "#Testing the model using the test data\n",
        "Y_pred = KNN.predict(X_test)\n",
        "\n",
        "#Let's calculate jaccard score for this model\n",
        "precision = metrics.precision_score(Y_test,Y_pred)\n",
        "recall = metrics.recall_score(Y_test,Y_pred)\n",
        "jaccard = metrics.jaccard_score(Y_test,Y_pred)\n",
        "f1 = metrics.f1_score(Y_test,Y_pred)\n",
        "print('\\n' + '>> KNN Classification' + '\\n')\n",
        "print('The Percision for this model is {:.3f}'.format(precision))\n",
        "print('The Recall for this model is {:.3f}'.format(recall))\n",
        "print('The F1/Dice for this model is {:.3f}'.format(f1))\n",
        "print('The Jaccard/IoU for this model is {:.3f}'.format(jaccard))"
      ]
    },
    {
      "cell_type": "code",
      "execution_count": null,
      "metadata": {
        "id": "nNxIb_a5tn_F"
      },
      "outputs": [],
      "source": [
        "from sklearn.tree import DecisionTreeClassifier\n",
        "\n",
        "# Building Decision Tree model\n",
        "DT = DecisionTreeClassifier(criterion=\"gini\", random_state=0, max_depth=4)\n",
        "DT.fit(XX_train, YY_train)\n",
        "\n",
        "#Testing the model using the test data\n",
        "Y_pred = DT.predict(X_test)\n",
        "\n",
        "#Let's calculate jaccard score for this model\n",
        "precision = metrics.precision_score(Y_test,Y_pred)\n",
        "recall = metrics.recall_score(Y_test,Y_pred)\n",
        "jaccard = metrics.jaccard_score(Y_test,Y_pred)\n",
        "f1 = metrics.f1_score(Y_test,Y_pred)\n",
        "print('\\n' + '>> Decision Tree Classification' + '\\n')\n",
        "print('The Percision for this model is {:.3f}'.format(precision))\n",
        "print('The Recall for this model is {:.3f}'.format(recall))\n",
        "print('The F1/Dice for this model is {:.3f}'.format(f1))\n",
        "print('The Jaccard for this model is {:.3f}'.format(jaccard))"
      ]
    },
    {
      "cell_type": "markdown",
      "metadata": {
        "id": "yBWN_9rFt8Co"
      },
      "source": [
        "### **Task 6 [10%]**  \n",
        "After obtaining the result, what did you discover compared to the initial run (before (in Part 1) and after feature engineering)? Could you briefly justfy this observation?"
      ]
    },
    {
      "cell_type": "markdown",
      "metadata": {
        "id": "SkPNBy5td23J"
      },
      "source": [
        "<font color=\"green\">**Hint:**</font>\n",
        " Feature Engineering might impact your models differently. You wanna explain what was that impact and how you would justify that."
      ]
    },
    {
      "cell_type": "markdown",
      "metadata": {
        "id": "WI5FbTlBuW1y"
      },
      "source": [
        "**YOUR ANSWER**:\n",
        "\n",
        "\n"
      ]
    },
    {
      "cell_type": "markdown",
      "metadata": {
        "id": "IpToohnQ-AGU"
      },
      "source": [
        "## 2.9 Re-run the Models with Feature Selection (NEED YOUR ANSWER)\n",
        "Let's say an expert data scientist does some analysis for us on feature selection. They tell us ['contact_telephone', 'contact_cellular', 'contact_unknown', 'day', 'month'] should not be selected for modeling.\n",
        "\n",
        "Let's trsut them and try this:"
      ]
    },
    {
      "cell_type": "code",
      "execution_count": null,
      "metadata": {
        "id": "2aW3Vp6nAjAf"
      },
      "outputs": [],
      "source": [
        "# They tell us ['contact_telephone', 'contact_cellular', 'contact_unknown', 'day', 'month'] were not selected.\n",
        "# We trust them and drop ['contact_telephone', 'contact_cellular', 'contact_unknown', 'day', 'month'] from features\n",
        "\n",
        "XX_train = XX_train.drop(['contact_telephone', 'contact_cellular', 'contact_unknown', 'day', 'month'], axis=1)\n",
        "X_test = X_test.drop(['contact_telephone', 'contact_cellular', 'contact_unknown', 'day', 'month'], axis=1)"
      ]
    },
    {
      "cell_type": "markdown",
      "metadata": {
        "id": "2MMyKlHicANP"
      },
      "source": [
        "Let's run our two models again and see how performance changes."
      ]
    },
    {
      "cell_type": "code",
      "execution_count": null,
      "metadata": {
        "id": "W5a6xeUBAAh0"
      },
      "outputs": [],
      "source": [
        "from sklearn import metrics\n",
        "from sklearn.neighbors import KNeighborsClassifier\n",
        "\n",
        "# Building Decision Tree model\n",
        "KNN = KNeighborsClassifier(n_neighbors=3)\n",
        "KNN.fit(XX_train, YY_train)\n",
        "\n",
        "#Testing the model using the test data\n",
        "Y_pred = KNN.predict(X_test)\n",
        "\n",
        "#Let's calculate jaccard score for this model\n",
        "precision = metrics.precision_score(Y_test,Y_pred)\n",
        "recall = metrics.recall_score(Y_test,Y_pred)\n",
        "jaccard = metrics.jaccard_score(Y_test,Y_pred)\n",
        "f1 = metrics.f1_score(Y_test,Y_pred)\n",
        "print('\\n' + '>> KNN Classification' + '\\n')\n",
        "print('The Percision for this model is {:.3f}'.format(precision))\n",
        "print('The Recall for this model is {:.3f}'.format(recall))\n",
        "print('The F1/Dice for this model is {:.3f}'.format(f1))\n",
        "print('The Jaccard/IoU for this model is {:.3f}'.format(jaccard))"
      ]
    },
    {
      "cell_type": "code",
      "execution_count": null,
      "metadata": {
        "id": "kPUcX1gnAB5j"
      },
      "outputs": [],
      "source": [
        "from sklearn.tree import DecisionTreeClassifier\n",
        "\n",
        "# Building Decision Tree model\n",
        "DT = DecisionTreeClassifier(criterion=\"gini\", random_state=0, max_depth=4)\n",
        "DT.fit(XX_train, YY_train)\n",
        "\n",
        "#Testing the model using the test data\n",
        "Y_pred = DT.predict(X_test)\n",
        "\n",
        "#Let's calculate jaccard score for this model\n",
        "precision = metrics.precision_score(Y_test,Y_pred)\n",
        "recall = metrics.recall_score(Y_test,Y_pred)\n",
        "jaccard = metrics.jaccard_score(Y_test,Y_pred)\n",
        "f1 = metrics.f1_score(Y_test,Y_pred)\n",
        "print('\\n' + '>> Decision Tree Classification' + '\\n')\n",
        "print('The Percision for this model is {:.3f}'.format(precision))\n",
        "print('The Recall for this model is {:.3f}'.format(recall))\n",
        "print('The F1/Dice for this model is {:.3f}'.format(f1))\n",
        "print('The Jaccard for this model is {:.3f}'.format(jaccard))"
      ]
    },
    {
      "cell_type": "markdown",
      "metadata": {
        "id": "N7dxqZt4Wl4t"
      },
      "source": [
        "### **Task 7 [10%]**  \n",
        "After obtaining the result, what did you discover compared to the initial run (before (in Part 1) and after feature engineering (in Part 2.8))? Could you briefly justfy this observation?"
      ]
    },
    {
      "cell_type": "markdown",
      "metadata": {
        "id": "pIQrynY8cz6o"
      },
      "source": [
        "<font color=\"green\">**Hint:**</font>\n",
        " Feature Selection might impact your models differently. You wanna explain what was that impact and how you would justify that."
      ]
    },
    {
      "cell_type": "markdown",
      "metadata": {
        "id": "OwUbBd7Pui3W"
      },
      "source": [
        "# Part 3 - Model Optimization\n",
        "\n",
        "In this section, we will have a opportunity to improve the result by customizing the existing models and their parameters.\n",
        "\n",
        "**Note:** You decide what version of the dataset to use for each model in this section. In case of DNN, we recommend you use the original dataset simillar to section 1.5.\n"
      ]
    },
    {
      "cell_type": "markdown",
      "metadata": {
        "id": "FG_BrrSwoB37"
      },
      "source": [
        "## 3.1 Deep Neural Network Model Customization (NEED YOUR CODE)\n",
        "Deep Neural Networks (DNNs/MLPs) are artificial neural networks with multiple hidden layers, capable of learning complex representations from data.\n",
        "![https://www.researchgate.net/publication/354817375/figure/fig2/AS:1071622807097344@1632506195651/Multi-layer-perceptron-MLP-NN-basic-Architecture.jpg](https://www.researchgate.net/publication/354817375/figure/fig2/AS:1071622807097344@1632506195651/Multi-layer-perceptron-MLP-NN-basic-Architecture.jpg)\n",
        "\n",
        "**Advantages**:\n",
        "\n",
        "- Powerful representation learning\n",
        "- Scalability to large datasets and complex problems\n",
        "- Versatility across various tasks (classification, regression, generation, etc.)\n",
        "- End-to-end learning without manual feature engineering\n",
        "- Parallelization and hardware acceleration capabilities\n",
        "\n",
        "**Disadvantages**:\n",
        "\n",
        "- Lack of interpretability (black-box nature)\n",
        "- Data hunger (require large labeled datasets)\n",
        "- Tendency to overfit the training data\n",
        "- Sensitivity to hyperparameter settings\n",
        "- Computational complexity and resource-intensive training"
      ]
    },
    {
      "cell_type": "markdown",
      "metadata": {
        "id": "pxT3NUAGrbbu"
      },
      "source": [
        "**QUESTION**:\n",
        "You would need to costomize the current DNN model to improve the model result.\n",
        "You could try following experiments:\n",
        "- Add / remove `Hidden Layer` (or `Dense` layer in Tensorflow).\n",
        "- Adjust size of `Hidden Layer` (aka number of neurons)\n",
        "- Add / remove `Dropout`\n",
        "- Use `BatchNormalization`\n",
        "- Use `Regularization`\n",
        "- Use CallBacks such as `EarlyStopping`\n",
        "- Adjust hyperparameters, e.g. `batch_size` and `epochs`\n",
        "\n",
        "See if you can outperform the existing best result.\n"
      ]
    },
    {
      "cell_type": "code",
      "execution_count": null,
      "metadata": {
        "id": "eJVvHHuErLzY"
      },
      "outputs": [],
      "source": [
        "from tensorflow.keras.models import Sequential\n",
        "from tensorflow.keras.layers import Dense, Dropout\n",
        "from sklearn.preprocessing import StandardScaler\n",
        "\n",
        "\n",
        "# # Standardize the data\n",
        "scaler = StandardScaler()\n",
        "X_train_scaled = scaler.fit_transform(X_train)\n",
        "X_test_scaled = scaler.transform(X_test)\n",
        "\n",
        "#### ADD YOUR CODE HERE: Create your DNN Model\n",
        "\n",
        "\n",
        "\n",
        "\n",
        "#### END OF YOUR CODE\n",
        "\n",
        "###########################################\n",
        "\n",
        "#### ADD YOUR CODE HERE: Compile your model\n",
        "\n",
        "\n",
        "\n",
        "\n",
        "#### END OF YOUR CODE"
      ]
    },
    {
      "cell_type": "code",
      "execution_count": null,
      "metadata": {
        "id": "fVfOWOYC2bx8"
      },
      "outputs": [],
      "source": [
        "#### ADD YOUR CODE HERE: Train your customize model\n",
        "\n",
        "\n",
        "\n",
        "#### END OF YOUR CODE\n",
        "\n",
        "# Evaluate the model\n",
        "Y_pred = model.predict(X_test_scaled)\n",
        "Y_pred_classes = np.round(Y_pred)\n",
        "\n",
        "# Calculate evaluation metrics\n",
        "precision = metrics.precision_score(Y_test, Y_pred_classes)\n",
        "recall = metrics.recall_score(Y_test, Y_pred_classes)\n",
        "f1 = metrics.f1_score(Y_test, Y_pred_classes)\n",
        "jaccard = metrics.jaccard_score(Y_test, Y_pred_classes)\n",
        "\n",
        "print('\\n' + '>> Deep Neural Network Classification' + '\\n')\n",
        "print('The Precision for this model is {:.3f}'.format(precision))\n",
        "print('The Recall for this model is {:.3f}'.format(recall))\n",
        "print('The F1-score for this model is {:.3f}'.format(f1))\n",
        "print('The Jaccard score for this model is {:.3f}'.format(jaccard))"
      ]
    },
    {
      "cell_type": "code",
      "execution_count": null,
      "metadata": {},
      "outputs": [],
      "source": []
    },
    {
      "cell_type": "code",
      "execution_count": null,
      "metadata": {
        "id": "4H9l7rskJjeF"
      },
      "outputs": [],
      "source": [
        "### **Task 8 [35%]**  \n",
        "Try at designing a decent DNN model (not from scratch, using Keras). Justify your design and leave your best model/result above (just your final model), and justif your observation and learning here. You should be able to improve the one given in section 1.5.\n",
        "\n",
        "**YOUR ANSWER**:"
      ]
    },
    {
      "cell_type": "markdown",
      "metadata": {},
      "source": [
        "## 3.2 XGBoost (Extra Credit Opportunity)\n",
        "XGBoost, short for eXtreme Gradient Boosting, is a high-performance implementation of gradient boosting designed for speed and accuracy. It features optimizations like parallel tree construction, L1/L2 regularization, and efficient handling of missing data and sparse datasets. Widely used in machine learning for classification, regression, and ranking tasks.\n",
        "\n",
        "![xgboost](https://content.cloudthat.com/resources/wp-content/uploads/2023/06/xgboost.png)\n",
        "\n",
        "**Advantages**\n",
        "\n",
        "- **High Performance**: Optimized for speed and performance, including parallel tree construction and cache-aware access patterns.\n",
        "- **Regularization**: Incorporates L1 and L2 regularization to reduce overfitting and enhance generalization.\n",
        "- **Handling Missing Data**: Automatically handles missing values during training.\n",
        "- **Customizability**: Allows custom objective functions and evaluation metrics.\n",
        "\n",
        "**Disadvantages**\n",
        "\n",
        "- **Complexity**: Requires a good understanding of hyperparameters and their tuning for optimal performance.\n",
        "- **Resource Intensive**: Can be memory and computationally intensive, especially with large datasets.\n",
        "- **Sensitivity to Data**: Can be sensitive to noisy data and may require careful preprocessing.\n",
        "- **Interpretability**: Less interpretable compared to simpler models like linear regression or decision trees.\n",
        "\n",
        "Learn XGBoost: https://xgboost.readthedocs.io/en/stable/tutorials/index.html"
      ]
    },
    {
      "cell_type": "markdown",
      "metadata": {},
      "source": [
        "### **Extra Credit [15%]**  \n",
        "Simillar to the previous task: Try at least a few XGBoost models with different hyperparameters or options. Leave your best model/result above, and justif your observation and learning here.\n",
        "\n",
        "**YOUR CODE & ANSWER**:"
      ]
    },
    {
      "cell_type": "code",
      "execution_count": null,
      "metadata": {},
      "outputs": [],
      "source": [
        "from xgboost import XGBClassifier\n",
        "\n",
        "#### ADD YOUR CODE: Create a XGBoost Model to experiment with different combination of hyperparameters\n",
        "\n",
        "\n",
        "\n",
        "#### END OF YOUR CODE\n",
        "\n",
        "# Training your revised model\n",
        "XGB.fit(XX_train, YY_train)\n",
        "\n",
        "# Testing the model using the test data\n",
        "Y_pred = XGB.predict(X_test)\n",
        "\n",
        "# Let's calculate performance metrics for this model\n",
        "precision = metrics.precision_score(Y_test, Y_pred)\n",
        "recall = metrics.recall_score(Y_test, Y_pred)\n",
        "jaccard = metrics.jaccard_score(Y_test, Y_pred)\n",
        "f1 = metrics.f1_score(Y_test, Y_pred)\n",
        "\n",
        "print('\\n' + '>> Random Forest Classification' + '\\n')\n",
        "print('The Precision for this model is {:.3f}'.format(precision))\n",
        "print('The Recall for this model is {:.3f}'.format(recall))\n",
        "print('The F1/Dice for this model is {:.3f}'.format(f1))\n",
        "print('The Jaccard for this model is {:.3f}'.format(jaccard))"
      ]
    }
  ],
  "metadata": {
    "colab": {
      "provenance": [],
      "toc_visible": true
    },
    "kernelspec": {
      "display_name": "Python (myenv)",
      "language": "python",
      "name": "myenv"
    },
    "language_info": {
      "codemirror_mode": {
        "name": "ipython",
        "version": 3
      },
      "file_extension": ".py",
      "mimetype": "text/x-python",
      "name": "python",
      "nbconvert_exporter": "python",
      "pygments_lexer": "ipython3",
      "version": "3.9.21"
    }
  },
  "nbformat": 4,
  "nbformat_minor": 0
}
